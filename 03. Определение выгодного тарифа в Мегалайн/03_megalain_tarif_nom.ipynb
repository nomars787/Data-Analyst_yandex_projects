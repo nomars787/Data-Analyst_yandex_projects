{
 "cells": [
  {
   "cell_type": "markdown",
   "metadata": {},
   "source": [
    "# Определение перспективного тарифа для телеком компании \"Мегалайн\""
   ]
  },
  {
   "cell_type": "markdown",
   "metadata": {},
   "source": [
    "## Описание проекта:\n",
    "Компания «Мегалайн» — федеральный оператор сотовой связи. Клиентам предлагают два тарифных плана: «Смарт» и «Ультра». Чтобы скорректировать рекламный бюджет, Коммерческому департаменту нужно определить, какой тариф приносит больше денег. Необходимо сделать предварительный анализ тарифов на небольшой выборке клиентов. В распоряжении данные 500 пользователей «Мегалайна»: кто они, откуда, каким тарифом пользуются, сколько звонков и сообщений каждый отправил за 2018 год. Нужно проанализировать поведение клиентов и сделать вывод — какой тариф лучше."
   ]
  },
  {
   "cell_type": "markdown",
   "metadata": {},
   "source": [
    "## Содержание\n",
    "1. [Шаг 1. Файлы с данными, изучение общей информации](#start)\n",
    "    * [1.1 Таблица users (информация о пользователях)](#step1.1)\n",
    "    * [1.2 Таблица calls (информация о звонках)](#step1.2)\n",
    "    * [1.3. Таблица messages (информация о сообщениях)](#step1.3)\n",
    "    * [1.4. Таблица internet (информация об интернет-сессиях)](#step1.4)\n",
    "    * [1.5. Таблица tariffs (информация о тарифах)](#step1.5)\n",
    "2. [Шаг 2. Подготовка данных](#step2)\n",
    "    * [2.1 Перевод данных к нужным типам](#step2.1)\n",
    "    * [2.2 Исправление ошибок в данных](#step2.2)\n",
    "    * [2.3 Подсчет для каждого пользователя: количество сделанных звонков и израсходованных минут разговора по месяцам; количество отправленных сообщений по месяцам; объем израсходованного интернет-трафика по месяцам; помесячная выручка с каждого пользователя](#step2.3)\n",
    "3. [Шаг 3. Анализ данных. Поведение клиентов оператора, исходя из выборки. Количество минут разговора, сообщений и объём интернет-трафика используемых пользователям каждого тарифа в месяц. Среднее количество, дисперсия и стандартное отклонение.\n",
    "Гистограммы и описание распределения.](#step3)\n",
    "4. [Шаг 4. Проверка гипотез: средняя выручка пользователей тарифов «Ультра» и «Смарт» различается; средняя выручка пользователей из Москвы отличается от выручки пользователей из других регионов.](#step4)\n",
    "5. [Шаг 5. Общий вывод](#step5)"
   ]
  },
  {
   "cell_type": "markdown",
   "metadata": {},
   "source": [
    "### Описание тарифов:\n",
    "#### Тариф «Смарт»:\n",
    "* Ежемесячная плата: 550 рублей\n",
    "* Включено 500 минут разговора, 50 сообщений и 15 Гб интернет-трафика\n",
    "* Стоимость услуг сверх тарифного пакета:\n",
    "    * минута разговора: 3 рубля\n",
    "    * сообщение: 3 рубля\n",
    "* 1 Гб интернет-трафика: 200 рублей\n",
    "    \n",
    "#### Тариф «Ультра»:\n",
    "* Ежемесячная плата: 1950 рублей\n",
    "* Включено 3000 минут разговора, 1000 сообщений и 30 Гб интернет-трафика\n",
    "* Стоимость услуг сверх тарифного пакета:\n",
    "    * минута разговора: 1 рубль\n",
    "    * сообщение: 1 рубль\n",
    "* 1 Гб интернет-трафика: 150 рублей\n",
    "\n",
    "Примечание: «Мегалайн» всегда округляет вверх значения минут и мегабайтов. Если пользователь проговорил всего 1 секунду, в тарифе засчитывается целая минута."
   ]
  },
  {
   "cell_type": "markdown",
   "metadata": {},
   "source": [
    "<a id=\"start\"></a>\n",
    "## Шаг 1. Файлы с данными, изучение общей информации"
   ]
  },
  {
   "cell_type": "code",
   "execution_count": 1,
   "metadata": {},
   "outputs": [],
   "source": [
    "import pandas as pd\n",
    "import numpy as np\n",
    "import matplotlib.pyplot as plt\n",
    "import seaborn as sns"
   ]
  },
  {
   "cell_type": "code",
   "execution_count": 2,
   "metadata": {},
   "outputs": [],
   "source": [
    "# путь к 5 файлам:\n",
    "users = pd.read_csv('/datasets/users.csv')\n",
    "calls = pd.read_csv('/datasets/calls.csv')\n",
    "messages = pd.read_csv('/datasets/messages.csv')\n",
    "internet = pd.read_csv('/datasets/internet.csv')\n",
    "tariffs = pd.read_csv('/datasets/tariffs.csv')"
   ]
  },
  {
   "cell_type": "code",
   "execution_count": 3,
   "metadata": {},
   "outputs": [
    {
     "name": "stdout",
     "output_type": "stream",
     "text": [
      "<class 'pandas.core.frame.DataFrame'>\n",
      "RangeIndex: 500 entries, 0 to 499\n",
      "Data columns (total 8 columns):\n",
      "user_id       500 non-null int64\n",
      "age           500 non-null int64\n",
      "churn_date    38 non-null object\n",
      "city          500 non-null object\n",
      "first_name    500 non-null object\n",
      "last_name     500 non-null object\n",
      "reg_date      500 non-null object\n",
      "tariff        500 non-null object\n",
      "dtypes: int64(2), object(6)\n",
      "memory usage: 31.4+ KB\n",
      "None\n",
      "\n",
      "<class 'pandas.core.frame.DataFrame'>\n",
      "RangeIndex: 202607 entries, 0 to 202606\n",
      "Data columns (total 4 columns):\n",
      "id           202607 non-null object\n",
      "call_date    202607 non-null object\n",
      "duration     202607 non-null float64\n",
      "user_id      202607 non-null int64\n",
      "dtypes: float64(1), int64(1), object(2)\n",
      "memory usage: 6.2+ MB\n",
      "None\n",
      "\n",
      "<class 'pandas.core.frame.DataFrame'>\n",
      "RangeIndex: 123036 entries, 0 to 123035\n",
      "Data columns (total 3 columns):\n",
      "id              123036 non-null object\n",
      "message_date    123036 non-null object\n",
      "user_id         123036 non-null int64\n",
      "dtypes: int64(1), object(2)\n",
      "memory usage: 2.8+ MB\n",
      "None\n",
      "\n",
      "<class 'pandas.core.frame.DataFrame'>\n",
      "RangeIndex: 149396 entries, 0 to 149395\n",
      "Data columns (total 5 columns):\n",
      "Unnamed: 0      149396 non-null int64\n",
      "id              149396 non-null object\n",
      "mb_used         149396 non-null float64\n",
      "session_date    149396 non-null object\n",
      "user_id         149396 non-null int64\n",
      "dtypes: float64(1), int64(2), object(2)\n",
      "memory usage: 5.7+ MB\n",
      "None\n",
      "\n",
      "<class 'pandas.core.frame.DataFrame'>\n",
      "RangeIndex: 2 entries, 0 to 1\n",
      "Data columns (total 8 columns):\n",
      "messages_included        2 non-null int64\n",
      "mb_per_month_included    2 non-null int64\n",
      "minutes_included         2 non-null int64\n",
      "rub_monthly_fee          2 non-null int64\n",
      "rub_per_gb               2 non-null int64\n",
      "rub_per_message          2 non-null int64\n",
      "rub_per_minute           2 non-null int64\n",
      "tariff_name              2 non-null object\n",
      "dtypes: int64(7), object(1)\n",
      "memory usage: 256.0+ bytes\n",
      "None\n",
      "\n"
     ]
    }
   ],
   "source": [
    "# смотрим общую информацию по каждой таблице:\n",
    "for data in [users, calls, messages, internet, tariffs]:\n",
    "    print(data.info(), end='\\n\\n')"
   ]
  },
  {
   "cell_type": "markdown",
   "metadata": {},
   "source": [
    "<a id=\"step1.1\"></a>\n",
    "### 1.1 Users - таблица пользователей"
   ]
  },
  {
   "cell_type": "code",
   "execution_count": 4,
   "metadata": {},
   "outputs": [
    {
     "data": {
      "text/html": [
       "<div>\n",
       "<style scoped>\n",
       "    .dataframe tbody tr th:only-of-type {\n",
       "        vertical-align: middle;\n",
       "    }\n",
       "\n",
       "    .dataframe tbody tr th {\n",
       "        vertical-align: top;\n",
       "    }\n",
       "\n",
       "    .dataframe thead th {\n",
       "        text-align: right;\n",
       "    }\n",
       "</style>\n",
       "<table border=\"1\" class=\"dataframe\">\n",
       "  <thead>\n",
       "    <tr style=\"text-align: right;\">\n",
       "      <th></th>\n",
       "      <th>user_id</th>\n",
       "      <th>age</th>\n",
       "      <th>churn_date</th>\n",
       "      <th>city</th>\n",
       "      <th>first_name</th>\n",
       "      <th>last_name</th>\n",
       "      <th>reg_date</th>\n",
       "      <th>tariff</th>\n",
       "    </tr>\n",
       "  </thead>\n",
       "  <tbody>\n",
       "    <tr>\n",
       "      <td>0</td>\n",
       "      <td>1000</td>\n",
       "      <td>52</td>\n",
       "      <td>NaN</td>\n",
       "      <td>Краснодар</td>\n",
       "      <td>Рафаил</td>\n",
       "      <td>Верещагин</td>\n",
       "      <td>2018-05-25</td>\n",
       "      <td>ultra</td>\n",
       "    </tr>\n",
       "    <tr>\n",
       "      <td>1</td>\n",
       "      <td>1001</td>\n",
       "      <td>41</td>\n",
       "      <td>NaN</td>\n",
       "      <td>Москва</td>\n",
       "      <td>Иван</td>\n",
       "      <td>Ежов</td>\n",
       "      <td>2018-11-01</td>\n",
       "      <td>smart</td>\n",
       "    </tr>\n",
       "    <tr>\n",
       "      <td>2</td>\n",
       "      <td>1002</td>\n",
       "      <td>59</td>\n",
       "      <td>NaN</td>\n",
       "      <td>Стерлитамак</td>\n",
       "      <td>Евгений</td>\n",
       "      <td>Абрамович</td>\n",
       "      <td>2018-06-17</td>\n",
       "      <td>smart</td>\n",
       "    </tr>\n",
       "    <tr>\n",
       "      <td>3</td>\n",
       "      <td>1003</td>\n",
       "      <td>23</td>\n",
       "      <td>NaN</td>\n",
       "      <td>Москва</td>\n",
       "      <td>Белла</td>\n",
       "      <td>Белякова</td>\n",
       "      <td>2018-08-17</td>\n",
       "      <td>ultra</td>\n",
       "    </tr>\n",
       "    <tr>\n",
       "      <td>4</td>\n",
       "      <td>1004</td>\n",
       "      <td>68</td>\n",
       "      <td>NaN</td>\n",
       "      <td>Новокузнецк</td>\n",
       "      <td>Татьяна</td>\n",
       "      <td>Авдеенко</td>\n",
       "      <td>2018-05-14</td>\n",
       "      <td>ultra</td>\n",
       "    </tr>\n",
       "  </tbody>\n",
       "</table>\n",
       "</div>"
      ],
      "text/plain": [
       "   user_id  age churn_date         city first_name  last_name    reg_date  \\\n",
       "0     1000   52        NaN    Краснодар     Рафаил  Верещагин  2018-05-25   \n",
       "1     1001   41        NaN       Москва       Иван       Ежов  2018-11-01   \n",
       "2     1002   59        NaN  Стерлитамак    Евгений  Абрамович  2018-06-17   \n",
       "3     1003   23        NaN       Москва      Белла   Белякова  2018-08-17   \n",
       "4     1004   68        NaN  Новокузнецк    Татьяна   Авдеенко  2018-05-14   \n",
       "\n",
       "  tariff  \n",
       "0  ultra  \n",
       "1  smart  \n",
       "2  smart  \n",
       "3  ultra  \n",
       "4  ultra  "
      ]
     },
     "execution_count": 4,
     "metadata": {},
     "output_type": "execute_result"
    }
   ],
   "source": [
    "users.head()"
   ]
  },
  {
   "cell_type": "code",
   "execution_count": 5,
   "metadata": {},
   "outputs": [
    {
     "data": {
      "text/plain": [
       "numpy.datetime64('2018-01')"
      ]
     },
     "execution_count": 5,
     "metadata": {},
     "output_type": "execute_result"
    }
   ],
   "source": [
    "# начальный месяц регистрации:\n",
    "\n",
    "min_month = users['reg_date'].values.astype('datetime64[M]').min()\n",
    "min_month"
   ]
  },
  {
   "cell_type": "code",
   "execution_count": 6,
   "metadata": {},
   "outputs": [
    {
     "data": {
      "text/plain": [
       "numpy.datetime64('2018-12')"
      ]
     },
     "execution_count": 6,
     "metadata": {},
     "output_type": "execute_result"
    }
   ],
   "source": [
    "# максимальный месяц регистрации:\n",
    "\n",
    "max_month = users['reg_date'].values.astype('datetime64[M]').max()\n",
    "max_month"
   ]
  },
  {
   "cell_type": "code",
   "execution_count": 7,
   "metadata": {},
   "outputs": [
    {
     "name": "stdout",
     "output_type": "stream",
     "text": [
      "<class 'pandas.core.frame.DataFrame'>\n",
      "RangeIndex: 500 entries, 0 to 499\n",
      "Data columns (total 8 columns):\n",
      "user_id       500 non-null int64\n",
      "age           500 non-null int64\n",
      "churn_date    38 non-null object\n",
      "city          500 non-null object\n",
      "first_name    500 non-null object\n",
      "last_name     500 non-null object\n",
      "reg_date      500 non-null object\n",
      "tariff        500 non-null object\n",
      "dtypes: int64(2), object(6)\n",
      "memory usage: 31.4+ KB\n"
     ]
    }
   ],
   "source": [
    "users.info()"
   ]
  },
  {
   "cell_type": "markdown",
   "metadata": {},
   "source": [
    "Проверим, все ли пользователи уникальные:"
   ]
  },
  {
   "cell_type": "code",
   "execution_count": 8,
   "metadata": {},
   "outputs": [
    {
     "name": "stdout",
     "output_type": "stream",
     "text": [
      "Кол-во строк в таблице users: 500\n",
      "Количество уникальных пользователей: 500\n",
      "Наличие дубликатов: 0\n"
     ]
    }
   ],
   "source": [
    "print(\"Кол-во строк в таблице users:\", users.shape[0])\n",
    "print(\"Количество уникальных пользователей:\", users['user_id'].count())\n",
    "print(\"Наличие дубликатов:\", users.duplicated().sum())"
   ]
  },
  {
   "cell_type": "code",
   "execution_count": 9,
   "metadata": {},
   "outputs": [
    {
     "data": {
      "text/plain": [
       "user_id         0\n",
       "age             0\n",
       "churn_date    462\n",
       "city            0\n",
       "first_name      0\n",
       "last_name       0\n",
       "reg_date        0\n",
       "tariff          0\n",
       "dtype: int64"
      ]
     },
     "execution_count": 9,
     "metadata": {},
     "output_type": "execute_result"
    }
   ],
   "source": [
    "# проверяем пропуски:\n",
    "users.isnull().sum()"
   ]
  },
  {
   "cell_type": "markdown",
   "metadata": {},
   "source": [
    "Пропуски только в столбце churn_date, их довольно много. Смотрим описание задачи: \"churn_date - дата прекращения пользования тарифом (если значение пропущено, то значит тариф ещё действовал на момент выгрузки данных)\". Оставим данные в этом столбце как есть - для решения поставленной задачи они не нужны.\n",
    "\n",
    "Необходимо изменить тип данных:\n",
    "\n",
    "reg_date - на datetime\n",
    "\n",
    "Необходимо добавить следующие столбцы:\n",
    "\n",
    "месяц"
   ]
  },
  {
   "cell_type": "markdown",
   "metadata": {},
   "source": [
    "<a id=\"step1.2\"></a>\n",
    "### 1.2 Calls - звонки"
   ]
  },
  {
   "cell_type": "code",
   "execution_count": 10,
   "metadata": {},
   "outputs": [
    {
     "data": {
      "text/html": [
       "<div>\n",
       "<style scoped>\n",
       "    .dataframe tbody tr th:only-of-type {\n",
       "        vertical-align: middle;\n",
       "    }\n",
       "\n",
       "    .dataframe tbody tr th {\n",
       "        vertical-align: top;\n",
       "    }\n",
       "\n",
       "    .dataframe thead th {\n",
       "        text-align: right;\n",
       "    }\n",
       "</style>\n",
       "<table border=\"1\" class=\"dataframe\">\n",
       "  <thead>\n",
       "    <tr style=\"text-align: right;\">\n",
       "      <th></th>\n",
       "      <th>id</th>\n",
       "      <th>call_date</th>\n",
       "      <th>duration</th>\n",
       "      <th>user_id</th>\n",
       "    </tr>\n",
       "  </thead>\n",
       "  <tbody>\n",
       "    <tr>\n",
       "      <td>0</td>\n",
       "      <td>1000_0</td>\n",
       "      <td>2018-07-25</td>\n",
       "      <td>0.00</td>\n",
       "      <td>1000</td>\n",
       "    </tr>\n",
       "    <tr>\n",
       "      <td>1</td>\n",
       "      <td>1000_1</td>\n",
       "      <td>2018-08-17</td>\n",
       "      <td>0.00</td>\n",
       "      <td>1000</td>\n",
       "    </tr>\n",
       "    <tr>\n",
       "      <td>2</td>\n",
       "      <td>1000_2</td>\n",
       "      <td>2018-06-11</td>\n",
       "      <td>2.85</td>\n",
       "      <td>1000</td>\n",
       "    </tr>\n",
       "    <tr>\n",
       "      <td>3</td>\n",
       "      <td>1000_3</td>\n",
       "      <td>2018-09-21</td>\n",
       "      <td>13.80</td>\n",
       "      <td>1000</td>\n",
       "    </tr>\n",
       "    <tr>\n",
       "      <td>4</td>\n",
       "      <td>1000_4</td>\n",
       "      <td>2018-12-15</td>\n",
       "      <td>5.18</td>\n",
       "      <td>1000</td>\n",
       "    </tr>\n",
       "  </tbody>\n",
       "</table>\n",
       "</div>"
      ],
      "text/plain": [
       "       id   call_date  duration  user_id\n",
       "0  1000_0  2018-07-25      0.00     1000\n",
       "1  1000_1  2018-08-17      0.00     1000\n",
       "2  1000_2  2018-06-11      2.85     1000\n",
       "3  1000_3  2018-09-21     13.80     1000\n",
       "4  1000_4  2018-12-15      5.18     1000"
      ]
     },
     "execution_count": 10,
     "metadata": {},
     "output_type": "execute_result"
    }
   ],
   "source": [
    "calls.head()"
   ]
  },
  {
   "cell_type": "code",
   "execution_count": 11,
   "metadata": {},
   "outputs": [
    {
     "name": "stdout",
     "output_type": "stream",
     "text": [
      "<class 'pandas.core.frame.DataFrame'>\n",
      "RangeIndex: 202607 entries, 0 to 202606\n",
      "Data columns (total 4 columns):\n",
      "id           202607 non-null object\n",
      "call_date    202607 non-null object\n",
      "duration     202607 non-null float64\n",
      "user_id      202607 non-null int64\n",
      "dtypes: float64(1), int64(1), object(2)\n",
      "memory usage: 6.2+ MB\n"
     ]
    }
   ],
   "source": [
    "calls.info()"
   ]
  },
  {
   "cell_type": "markdown",
   "metadata": {},
   "source": [
    "202607 строк данных. Данные полные, без пропусков.\n",
    "\n",
    "Необходимо изменить тип данных:\n",
    "\n",
    "call_date - на datetime."
   ]
  },
  {
   "cell_type": "markdown",
   "metadata": {},
   "source": [
    "<a id=\"step1.3\"></a>\n",
    "### 1.3 Messages - смс сообщения"
   ]
  },
  {
   "cell_type": "code",
   "execution_count": 12,
   "metadata": {},
   "outputs": [
    {
     "data": {
      "text/html": [
       "<div>\n",
       "<style scoped>\n",
       "    .dataframe tbody tr th:only-of-type {\n",
       "        vertical-align: middle;\n",
       "    }\n",
       "\n",
       "    .dataframe tbody tr th {\n",
       "        vertical-align: top;\n",
       "    }\n",
       "\n",
       "    .dataframe thead th {\n",
       "        text-align: right;\n",
       "    }\n",
       "</style>\n",
       "<table border=\"1\" class=\"dataframe\">\n",
       "  <thead>\n",
       "    <tr style=\"text-align: right;\">\n",
       "      <th></th>\n",
       "      <th>id</th>\n",
       "      <th>message_date</th>\n",
       "      <th>user_id</th>\n",
       "    </tr>\n",
       "  </thead>\n",
       "  <tbody>\n",
       "    <tr>\n",
       "      <td>0</td>\n",
       "      <td>1000_0</td>\n",
       "      <td>2018-06-27</td>\n",
       "      <td>1000</td>\n",
       "    </tr>\n",
       "    <tr>\n",
       "      <td>1</td>\n",
       "      <td>1000_1</td>\n",
       "      <td>2018-10-08</td>\n",
       "      <td>1000</td>\n",
       "    </tr>\n",
       "    <tr>\n",
       "      <td>2</td>\n",
       "      <td>1000_2</td>\n",
       "      <td>2018-08-04</td>\n",
       "      <td>1000</td>\n",
       "    </tr>\n",
       "    <tr>\n",
       "      <td>3</td>\n",
       "      <td>1000_3</td>\n",
       "      <td>2018-06-16</td>\n",
       "      <td>1000</td>\n",
       "    </tr>\n",
       "    <tr>\n",
       "      <td>4</td>\n",
       "      <td>1000_4</td>\n",
       "      <td>2018-12-05</td>\n",
       "      <td>1000</td>\n",
       "    </tr>\n",
       "  </tbody>\n",
       "</table>\n",
       "</div>"
      ],
      "text/plain": [
       "       id message_date  user_id\n",
       "0  1000_0   2018-06-27     1000\n",
       "1  1000_1   2018-10-08     1000\n",
       "2  1000_2   2018-08-04     1000\n",
       "3  1000_3   2018-06-16     1000\n",
       "4  1000_4   2018-12-05     1000"
      ]
     },
     "execution_count": 12,
     "metadata": {},
     "output_type": "execute_result"
    }
   ],
   "source": [
    "messages.head()"
   ]
  },
  {
   "cell_type": "code",
   "execution_count": 13,
   "metadata": {},
   "outputs": [
    {
     "name": "stdout",
     "output_type": "stream",
     "text": [
      "<class 'pandas.core.frame.DataFrame'>\n",
      "RangeIndex: 123036 entries, 0 to 123035\n",
      "Data columns (total 3 columns):\n",
      "id              123036 non-null object\n",
      "message_date    123036 non-null object\n",
      "user_id         123036 non-null int64\n",
      "dtypes: int64(1), object(2)\n",
      "memory usage: 2.8+ MB\n"
     ]
    }
   ],
   "source": [
    "messages.info()"
   ]
  },
  {
   "cell_type": "markdown",
   "metadata": {},
   "source": [
    "123036 строк данных. Данные полные, без пропусков.\n",
    "\n",
    "Необходимо изменить тип данных:\n",
    "\n",
    "id - на int\n",
    "\n",
    "message_date - на datetime."
   ]
  },
  {
   "cell_type": "markdown",
   "metadata": {},
   "source": [
    "<a id=\"step1.4\"></a>\n",
    "### 1.4 Internet - интернет"
   ]
  },
  {
   "cell_type": "code",
   "execution_count": 14,
   "metadata": {},
   "outputs": [
    {
     "data": {
      "text/html": [
       "<div>\n",
       "<style scoped>\n",
       "    .dataframe tbody tr th:only-of-type {\n",
       "        vertical-align: middle;\n",
       "    }\n",
       "\n",
       "    .dataframe tbody tr th {\n",
       "        vertical-align: top;\n",
       "    }\n",
       "\n",
       "    .dataframe thead th {\n",
       "        text-align: right;\n",
       "    }\n",
       "</style>\n",
       "<table border=\"1\" class=\"dataframe\">\n",
       "  <thead>\n",
       "    <tr style=\"text-align: right;\">\n",
       "      <th></th>\n",
       "      <th>Unnamed: 0</th>\n",
       "      <th>id</th>\n",
       "      <th>mb_used</th>\n",
       "      <th>session_date</th>\n",
       "      <th>user_id</th>\n",
       "    </tr>\n",
       "  </thead>\n",
       "  <tbody>\n",
       "    <tr>\n",
       "      <td>0</td>\n",
       "      <td>0</td>\n",
       "      <td>1000_0</td>\n",
       "      <td>112.95</td>\n",
       "      <td>2018-11-25</td>\n",
       "      <td>1000</td>\n",
       "    </tr>\n",
       "    <tr>\n",
       "      <td>1</td>\n",
       "      <td>1</td>\n",
       "      <td>1000_1</td>\n",
       "      <td>1052.81</td>\n",
       "      <td>2018-09-07</td>\n",
       "      <td>1000</td>\n",
       "    </tr>\n",
       "    <tr>\n",
       "      <td>2</td>\n",
       "      <td>2</td>\n",
       "      <td>1000_2</td>\n",
       "      <td>1197.26</td>\n",
       "      <td>2018-06-25</td>\n",
       "      <td>1000</td>\n",
       "    </tr>\n",
       "    <tr>\n",
       "      <td>3</td>\n",
       "      <td>3</td>\n",
       "      <td>1000_3</td>\n",
       "      <td>550.27</td>\n",
       "      <td>2018-08-22</td>\n",
       "      <td>1000</td>\n",
       "    </tr>\n",
       "    <tr>\n",
       "      <td>4</td>\n",
       "      <td>4</td>\n",
       "      <td>1000_4</td>\n",
       "      <td>302.56</td>\n",
       "      <td>2018-09-24</td>\n",
       "      <td>1000</td>\n",
       "    </tr>\n",
       "  </tbody>\n",
       "</table>\n",
       "</div>"
      ],
      "text/plain": [
       "   Unnamed: 0      id  mb_used session_date  user_id\n",
       "0           0  1000_0   112.95   2018-11-25     1000\n",
       "1           1  1000_1  1052.81   2018-09-07     1000\n",
       "2           2  1000_2  1197.26   2018-06-25     1000\n",
       "3           3  1000_3   550.27   2018-08-22     1000\n",
       "4           4  1000_4   302.56   2018-09-24     1000"
      ]
     },
     "execution_count": 14,
     "metadata": {},
     "output_type": "execute_result"
    }
   ],
   "source": [
    "internet.head()"
   ]
  },
  {
   "cell_type": "code",
   "execution_count": 15,
   "metadata": {},
   "outputs": [
    {
     "name": "stdout",
     "output_type": "stream",
     "text": [
      "<class 'pandas.core.frame.DataFrame'>\n",
      "RangeIndex: 149396 entries, 0 to 149395\n",
      "Data columns (total 5 columns):\n",
      "Unnamed: 0      149396 non-null int64\n",
      "id              149396 non-null object\n",
      "mb_used         149396 non-null float64\n",
      "session_date    149396 non-null object\n",
      "user_id         149396 non-null int64\n",
      "dtypes: float64(1), int64(2), object(2)\n",
      "memory usage: 5.7+ MB\n"
     ]
    }
   ],
   "source": [
    "internet.info()"
   ]
  },
  {
   "cell_type": "markdown",
   "metadata": {},
   "source": [
    "149396 строк. Данные полные, без пропусков.\n",
    "\n",
    "Необходимо изменить тип данных:\n",
    "\n",
    "session_date - на datetime."
   ]
  },
  {
   "cell_type": "markdown",
   "metadata": {},
   "source": [
    "<a id=\"step1.5\"></a>\n",
    "### 1.5 Tariffs - тарифы"
   ]
  },
  {
   "cell_type": "code",
   "execution_count": 16,
   "metadata": {},
   "outputs": [
    {
     "data": {
      "text/html": [
       "<div>\n",
       "<style scoped>\n",
       "    .dataframe tbody tr th:only-of-type {\n",
       "        vertical-align: middle;\n",
       "    }\n",
       "\n",
       "    .dataframe tbody tr th {\n",
       "        vertical-align: top;\n",
       "    }\n",
       "\n",
       "    .dataframe thead th {\n",
       "        text-align: right;\n",
       "    }\n",
       "</style>\n",
       "<table border=\"1\" class=\"dataframe\">\n",
       "  <thead>\n",
       "    <tr style=\"text-align: right;\">\n",
       "      <th></th>\n",
       "      <th>messages_included</th>\n",
       "      <th>mb_per_month_included</th>\n",
       "      <th>minutes_included</th>\n",
       "      <th>rub_monthly_fee</th>\n",
       "      <th>rub_per_gb</th>\n",
       "      <th>rub_per_message</th>\n",
       "      <th>rub_per_minute</th>\n",
       "      <th>tariff_name</th>\n",
       "    </tr>\n",
       "  </thead>\n",
       "  <tbody>\n",
       "    <tr>\n",
       "      <td>0</td>\n",
       "      <td>50</td>\n",
       "      <td>15360</td>\n",
       "      <td>500</td>\n",
       "      <td>550</td>\n",
       "      <td>200</td>\n",
       "      <td>3</td>\n",
       "      <td>3</td>\n",
       "      <td>smart</td>\n",
       "    </tr>\n",
       "    <tr>\n",
       "      <td>1</td>\n",
       "      <td>1000</td>\n",
       "      <td>30720</td>\n",
       "      <td>3000</td>\n",
       "      <td>1950</td>\n",
       "      <td>150</td>\n",
       "      <td>1</td>\n",
       "      <td>1</td>\n",
       "      <td>ultra</td>\n",
       "    </tr>\n",
       "  </tbody>\n",
       "</table>\n",
       "</div>"
      ],
      "text/plain": [
       "   messages_included  mb_per_month_included  minutes_included  \\\n",
       "0                 50                  15360               500   \n",
       "1               1000                  30720              3000   \n",
       "\n",
       "   rub_monthly_fee  rub_per_gb  rub_per_message  rub_per_minute tariff_name  \n",
       "0              550         200                3               3       smart  \n",
       "1             1950         150                1               1       ultra  "
      ]
     },
     "execution_count": 16,
     "metadata": {},
     "output_type": "execute_result"
    }
   ],
   "source": [
    "tariffs.head()"
   ]
  },
  {
   "cell_type": "code",
   "execution_count": 17,
   "metadata": {},
   "outputs": [
    {
     "name": "stdout",
     "output_type": "stream",
     "text": [
      "<class 'pandas.core.frame.DataFrame'>\n",
      "RangeIndex: 2 entries, 0 to 1\n",
      "Data columns (total 8 columns):\n",
      "messages_included        2 non-null int64\n",
      "mb_per_month_included    2 non-null int64\n",
      "minutes_included         2 non-null int64\n",
      "rub_monthly_fee          2 non-null int64\n",
      "rub_per_gb               2 non-null int64\n",
      "rub_per_message          2 non-null int64\n",
      "rub_per_minute           2 non-null int64\n",
      "tariff_name              2 non-null object\n",
      "dtypes: int64(7), object(1)\n",
      "memory usage: 256.0+ bytes\n"
     ]
    }
   ],
   "source": [
    "tariffs.info()"
   ]
  },
  {
   "cell_type": "markdown",
   "metadata": {},
   "source": [
    "Данные по тарифам как справочная информация."
   ]
  },
  {
   "cell_type": "markdown",
   "metadata": {},
   "source": [
    "### Основные выводы по Шагу 1:\n",
    "Получили следующие 5 таблиц:\n",
    "- 1. Таблица Users (информация о пользователях)\n",
    "- 2. Таблица Calls (информация о звонках)\n",
    "- 3. Таблица Messages (информация о сообщениях)\n",
    "- 4. Таблица Internet (информация об интернет-сессиях)\n",
    "- 5. Таблица Tariffs (информация о тарифах)\n",
    "\n",
    "Названия и перевод столбцов в таблицах:\n",
    "\n",
    "1.Таблица users (информация о пользователях):\n",
    "- user_id — уникальный идентификатор пользователя\n",
    "- first_name — имя пользователя\n",
    "- last_name — фамилия пользователя\n",
    "- age — возраст пользователя (годы)\n",
    "- reg_date — дата подключения тарифа (день, месяц, год)\n",
    "- churn_date — дата прекращения пользования тарифом (если значение пропущено, то тариф ещё действовал на момент выгрузки данных)\n",
    "- city — город проживания пользователя\n",
    "- tariff — название тарифного плана\n",
    "\n",
    "2.Таблица calls (информация о звонках):\n",
    "* id — уникальный номер звонка\n",
    "* call_date — дата звонка\n",
    "* duration — длительность звонка в минутах\n",
    "* user_id — идентификатор пользователя, сделавшего звонок\n",
    "\n",
    "3.Таблица messages (информация о сообщениях):\n",
    "* id — уникальный номер сообщения\n",
    "* message_date — дата сообщения\n",
    "* user_id — идентификатор пользователя, отправившего сообщение\n",
    "\n",
    "4.Таблица internet (информация об интернет-сессиях):\n",
    "* id — уникальный номер сессии\n",
    "* mb_used — объём потраченного за сессию интернет-трафика (в мегабайтах)\n",
    "* session_date — дата интернет-сессии\n",
    "* user_id — идентификатор пользователя\n",
    "\n",
    "5.Таблица tariffs (информация о тарифах):\n",
    "* tariff_name — название тарифа\n",
    "* rub_monthly_fee — ежемесячная абонентская плата в рублях\n",
    "* minutes_included — количество минут разговора в месяц, включённых в абонентскую плату\n",
    "* messages_included — количество сообщений в месяц, включённых в абонентскую плату\n",
    "* mb_per_month_included — объём интернет-трафика, включённого в абонентскую плату (в мегабайтах)\n",
    "* rub_per_minute — стоимость минуты разговора сверх тарифного пакета (например, если в тарифе 100 минут разговора в месяц, то со 101 минуты будет взиматься плата)\n",
    "* rub_per_message — стоимость отправки сообщения сверх тарифного пакета\n",
    "* rub_per_gb — стоимость дополнительного гигабайта интернет-трафика сверх тарифного пакета (1 гигабайт = 1024 мегабайта)"
   ]
  },
  {
   "cell_type": "markdown",
   "metadata": {},
   "source": [
    "<a id=\"step2\"></a>\n",
    "## Шаг 2. Подготовка данных"
   ]
  },
  {
   "cell_type": "markdown",
   "metadata": {},
   "source": [
    "* Перевод данных к нужным типам;\n",
    "* Исправление ошибок в данных.\n",
    "\n",
    "Пояснить, какие ошибки найдены и как исправили. Длительность многих звонков — 0.0 минут. Это могут быть пропущенные звонки. Обрабатывать ли эти нулевые значения, как их отсутствие повлияет на результаты анализа.\n",
    "\n",
    "Подсчет для каждого пользователя:\n",
    "* количество сделанных звонков и израсходованных минут разговора по месяцам;\n",
    "* количество отправленных сообщений по месяцам;\n",
    "* объем израсходованного интернет-трафика по месяцам;\n",
    "* помесячная выручка с каждого пользователя (вычтим бесплатный лимит из суммарного количества звонков, сообщений и интернет-трафика; остаток умножаем на значение из тарифного плана; прибавим абонентскую плату, соответствующую тарифному плану)."
   ]
  },
  {
   "cell_type": "markdown",
   "metadata": {},
   "source": [
    "<a id=\"step2.1\"></a>\n",
    "### Приведем данные к нужным типам:"
   ]
  },
  {
   "cell_type": "markdown",
   "metadata": {},
   "source": [
    "#### 2.1 Users"
   ]
  },
  {
   "cell_type": "code",
   "execution_count": 18,
   "metadata": {},
   "outputs": [],
   "source": [
    "users['reg_date'] = pd.to_datetime(users['reg_date'], format='%Y-%m-%d')\n",
    "users['churn_date'] = pd.to_datetime(users['churn_date'], format='%Y-%m-%d')"
   ]
  },
  {
   "cell_type": "code",
   "execution_count": 19,
   "metadata": {},
   "outputs": [
    {
     "data": {
      "text/plain": [
       "user_id                int64\n",
       "age                    int64\n",
       "churn_date    datetime64[ns]\n",
       "city                  object\n",
       "first_name            object\n",
       "last_name             object\n",
       "reg_date      datetime64[ns]\n",
       "tariff                object\n",
       "dtype: object"
      ]
     },
     "execution_count": 19,
     "metadata": {},
     "output_type": "execute_result"
    }
   ],
   "source": [
    "users.dtypes"
   ]
  },
  {
   "cell_type": "markdown",
   "metadata": {},
   "source": [
    "#### 2.2 Calls"
   ]
  },
  {
   "cell_type": "code",
   "execution_count": 20,
   "metadata": {},
   "outputs": [],
   "source": [
    "calls['call_date'] = pd.to_datetime(calls['call_date'], format='%Y-%m-%d')\n",
    "\n",
    "# после проверки, по совету Алексея в столбце id не нужно менять тип данных на int, оставить как строка"
   ]
  },
  {
   "cell_type": "code",
   "execution_count": 21,
   "metadata": {},
   "outputs": [
    {
     "data": {
      "text/plain": [
       "id                   object\n",
       "call_date    datetime64[ns]\n",
       "duration            float64\n",
       "user_id               int64\n",
       "dtype: object"
      ]
     },
     "execution_count": 21,
     "metadata": {},
     "output_type": "execute_result"
    }
   ],
   "source": [
    "calls.dtypes"
   ]
  },
  {
   "cell_type": "markdown",
   "metadata": {},
   "source": [
    "#### 2.3 Messages"
   ]
  },
  {
   "cell_type": "code",
   "execution_count": 22,
   "metadata": {},
   "outputs": [],
   "source": [
    "messages['message_date'] = pd.to_datetime(messages['message_date'], format='%Y-%m-%d')"
   ]
  },
  {
   "cell_type": "code",
   "execution_count": 23,
   "metadata": {},
   "outputs": [
    {
     "data": {
      "text/plain": [
       "id                      object\n",
       "message_date    datetime64[ns]\n",
       "user_id                  int64\n",
       "dtype: object"
      ]
     },
     "execution_count": 23,
     "metadata": {},
     "output_type": "execute_result"
    }
   ],
   "source": [
    "messages.dtypes"
   ]
  },
  {
   "cell_type": "markdown",
   "metadata": {},
   "source": [
    "#### 2.4 Internet"
   ]
  },
  {
   "cell_type": "code",
   "execution_count": 24,
   "metadata": {},
   "outputs": [],
   "source": [
    "internet['session_date'] = pd.to_datetime(internet['session_date'], format='%Y-%m-%d')"
   ]
  },
  {
   "cell_type": "code",
   "execution_count": 25,
   "metadata": {},
   "outputs": [
    {
     "data": {
      "text/plain": [
       "Unnamed: 0               int64\n",
       "id                      object\n",
       "mb_used                float64\n",
       "session_date    datetime64[ns]\n",
       "user_id                  int64\n",
       "dtype: object"
      ]
     },
     "execution_count": 25,
     "metadata": {},
     "output_type": "execute_result"
    }
   ],
   "source": [
    "internet.dtypes"
   ]
  },
  {
   "cell_type": "markdown",
   "metadata": {},
   "source": [
    "#### 2.5 Tariffs"
   ]
  },
  {
   "cell_type": "code",
   "execution_count": 26,
   "metadata": {},
   "outputs": [
    {
     "data": {
      "text/plain": [
       "messages_included         int64\n",
       "mb_per_month_included     int64\n",
       "minutes_included          int64\n",
       "rub_monthly_fee           int64\n",
       "rub_per_gb                int64\n",
       "rub_per_message           int64\n",
       "rub_per_minute            int64\n",
       "tariff_name              object\n",
       "dtype: object"
      ]
     },
     "execution_count": 26,
     "metadata": {},
     "output_type": "execute_result"
    }
   ],
   "source": [
    "tariffs.dtypes"
   ]
  },
  {
   "cell_type": "markdown",
   "metadata": {},
   "source": [
    "<a id=\"step2.2\"></a>\n",
    "### Исправляем ошибки в данных:"
   ]
  },
  {
   "cell_type": "markdown",
   "metadata": {},
   "source": [
    "В таблице Calls  строим гистограмму по столбцу длительность звонка в минутах:"
   ]
  },
  {
   "cell_type": "code",
   "execution_count": 27,
   "metadata": {},
   "outputs": [
    {
     "data": {
      "text/plain": [
       "Text(0, 0.5, 'количество')"
      ]
     },
     "execution_count": 27,
     "metadata": {},
     "output_type": "execute_result"
    },
    {
     "data": {
      "image/png": "[encoded data removed]",
      "text/plain": [
       "<Figure size 432x288 with 1 Axes>"
      ]
     },
     "metadata": {
      "needs_background": "light"
     },
     "output_type": "display_data"
    }
   ],
   "source": [
    "calls_hist = calls['duration'].plot(kind='hist', bins=50, grid=True,\n",
    "                                    title='Гистограмма распределения длительности звонков, мин.')\n",
    "calls_hist.set_xlabel('минут')\n",
    "calls_hist.set_ylabel('количество')"
   ]
  },
  {
   "cell_type": "markdown",
   "metadata": {},
   "source": [
    "Очень много звонков с нулевой длительностью. Это возможно пропущенные, несостоявшиеся звонки. Нулевая их длительность вызвана прерыванием связи или случаями, когда у другого абонента было \"занято\", \"не доступен\" и поэтому происходил моментальный сброс вызова после дозвона. Согласно примечанию, «Мегалайн» всегда округляет вверх значения минут и мегабайтов. Если пользователь проговорил всего 1 секунду, в тарифе засчитывается целая минута. Округляем в большую сторону вверх до минуты все звонки при\n",
    "помощи np.ceil Звонки с 0 минутой не расходуют лимиты минут и не принимают участия в формировании конечной выручки, поэтому удаляем эти строки. "
   ]
  },
  {
   "cell_type": "code",
   "execution_count": 28,
   "metadata": {},
   "outputs": [],
   "source": [
    "# Округляем в большую сторону вверх до минуты все звонки при помощи np.ceil:\n",
    "\n",
    "calls['duration'] = calls['duration'].apply(np.ceil).astype('int')\n",
    "\n",
    "# после проверки, по совету Алексея, поменял тип данных на int"
   ]
  },
  {
   "cell_type": "code",
   "execution_count": 29,
   "metadata": {},
   "outputs": [],
   "source": [
    "# заменяем нули на пропуски и удаляем эти строки:\n",
    "\n",
    "calls['duration'] = calls['duration'].replace(0, np.NaN)\n",
    "calls = calls.dropna()"
   ]
  },
  {
   "cell_type": "code",
   "execution_count": 30,
   "metadata": {},
   "outputs": [
    {
     "data": {
      "text/plain": [
       "Text(0, 0.5, 'количество')"
      ]
     },
     "execution_count": 30,
     "metadata": {},
     "output_type": "execute_result"
    },
    {
     "data": {
      "image/png": "[encoded data removed]",
      "text/plain": [
       "<Figure size 432x288 with 1 Axes>"
      ]
     },
     "metadata": {
      "needs_background": "light"
     },
     "output_type": "display_data"
    }
   ],
   "source": [
    "# проверяем:\n",
    "calls_hist = calls['duration'].plot(kind='hist', bins=50, grid=True,\n",
    "                                    title='Гистограмма распределения длительности звонков, мин.')\n",
    "calls_hist.set_xlabel('минут')\n",
    "calls_hist.set_ylabel('количество')"
   ]
  },
  {
   "cell_type": "markdown",
   "metadata": {},
   "source": [
    "#### Исправляем также ошибки в таблице Интернет использование интернет-трафика:"
   ]
  },
  {
   "cell_type": "code",
   "execution_count": 31,
   "metadata": {},
   "outputs": [
    {
     "data": {
      "text/plain": [
       "Text(0, 0.5, 'Количество')"
      ]
     },
     "execution_count": 31,
     "metadata": {},
     "output_type": "execute_result"
    },
    {
     "data": {
      "image/png": "[encoded data removed]",
      "text/plain": [
       "<Figure size 432x288 with 1 Axes>"
      ]
     },
     "metadata": {
      "needs_background": "light"
     },
     "output_type": "display_data"
    }
   ],
   "source": [
    "# смотрим гистограмму интернет-трафика:\n",
    "\n",
    "int_hist = internet['mb_used'].plot(kind='hist', bins=50, grid=True,\n",
    "                                    title='Гистограмма распределения интернет-трафика, Мб.')\n",
    "int_hist.set_xlabel('Мб.')\n",
    "int_hist.set_ylabel('Количество')"
   ]
  },
  {
   "cell_type": "code",
   "execution_count": 32,
   "metadata": {},
   "outputs": [],
   "source": [
    "# Согласно примечанию «Мегалайн» всегда округляет вверх значения минут и мегабайтов. Если пользователь проговорил всего 1 секунду,\n",
    "# в тарифе засчитывается целая минута. Округляем в большую сторону вверх до минуты все интернет-трафики при\n",
    "# помощи np.ceil:\n",
    "\n",
    "internet['mb_used'] = internet['mb_used'].apply(np.ceil)"
   ]
  },
  {
   "cell_type": "code",
   "execution_count": 33,
   "metadata": {},
   "outputs": [],
   "source": [
    "# заменяем нули на пропуски и удаляем эти строки:\n",
    "\n",
    "internet['mb_used'] = internet['mb_used'].replace(0, np.NaN)\n",
    "internet = internet.dropna()"
   ]
  },
  {
   "cell_type": "code",
   "execution_count": 34,
   "metadata": {},
   "outputs": [
    {
     "data": {
      "text/plain": [
       "Text(0, 0.5, 'Количество')"
      ]
     },
     "execution_count": 34,
     "metadata": {},
     "output_type": "execute_result"
    },
    {
     "data": {
      "image/png": "[encoded data removed]",
      "text/plain": [
       "<Figure size 432x288 with 1 Axes>"
      ]
     },
     "metadata": {
      "needs_background": "light"
     },
     "output_type": "display_data"
    }
   ],
   "source": [
    "# проверяем:\n",
    "\n",
    "int_hist = internet['mb_used'].plot(kind='hist', bins=50, grid=True,\n",
    "                                    title='Гистограмма распределения интернет-трафика, Мб.')\n",
    "int_hist.set_xlabel('Мб.')\n",
    "int_hist.set_ylabel('Количество')"
   ]
  },
  {
   "cell_type": "markdown",
   "metadata": {},
   "source": [
    "<a id=\"step2.3\"></a>\n",
    "### Подсчет для каждого пользователя:\n",
    "* количество сделанных звонков и израсходованных минут разговора по месяцам;\n",
    "* количество отправленных сообщений по месяцам;\n",
    "* объем израсходованного интернет-трафика по месяцам;\n",
    "* помесячная выручка с каждого пользователя (вычтем бесплатный лимит из суммарного количества звонков, сообщений и интернет-трафика; остаток умножим на значение из тарифного плана; прибавим абонентскую плату, соответствующую тарифному плану)."
   ]
  },
  {
   "cell_type": "markdown",
   "metadata": {},
   "source": [
    "Добавим в таблице Users столбец месяц:"
   ]
  },
  {
   "cell_type": "code",
   "execution_count": 35,
   "metadata": {},
   "outputs": [],
   "source": [
    "users['month'] = pd.DatetimeIndex(users['reg_date']).month"
   ]
  },
  {
   "cell_type": "markdown",
   "metadata": {},
   "source": [
    "Добавим в таблице Calls столбец месяц:"
   ]
  },
  {
   "cell_type": "code",
   "execution_count": 36,
   "metadata": {},
   "outputs": [],
   "source": [
    "calls['month'] = pd.DatetimeIndex(calls['call_date']).month"
   ]
  },
  {
   "cell_type": "markdown",
   "metadata": {},
   "source": [
    "#### Таблица \"Количество сделанных звонков и израсходованных минут разговора по месяцам\":"
   ]
  },
  {
   "cell_type": "code",
   "execution_count": 37,
   "metadata": {},
   "outputs": [],
   "source": [
    "calls_month = calls.groupby(['user_id', 'month'])[['duration']].agg(['count', 'sum']).reset_index()"
   ]
  },
  {
   "cell_type": "code",
   "execution_count": 38,
   "metadata": {},
   "outputs": [],
   "source": [
    "calls_month.columns = ['user_id','month','calls_count', 'calls_sum']"
   ]
  },
  {
   "cell_type": "code",
   "execution_count": 39,
   "metadata": {},
   "outputs": [
    {
     "data": {
      "text/plain": [
       "3168"
      ]
     },
     "execution_count": 39,
     "metadata": {},
     "output_type": "execute_result"
    }
   ],
   "source": [
    "# смотрим кол-во строк в таблице\n",
    "\n",
    "len(calls_month)"
   ]
  },
  {
   "cell_type": "code",
   "execution_count": 40,
   "metadata": {},
   "outputs": [
    {
     "data": {
      "text/html": [
       "<div>\n",
       "<style scoped>\n",
       "    .dataframe tbody tr th:only-of-type {\n",
       "        vertical-align: middle;\n",
       "    }\n",
       "\n",
       "    .dataframe tbody tr th {\n",
       "        vertical-align: top;\n",
       "    }\n",
       "\n",
       "    .dataframe thead th {\n",
       "        text-align: right;\n",
       "    }\n",
       "</style>\n",
       "<table border=\"1\" class=\"dataframe\">\n",
       "  <thead>\n",
       "    <tr style=\"text-align: right;\">\n",
       "      <th></th>\n",
       "      <th>user_id</th>\n",
       "      <th>month</th>\n",
       "      <th>calls_count</th>\n",
       "      <th>calls_sum</th>\n",
       "    </tr>\n",
       "  </thead>\n",
       "  <tbody>\n",
       "    <tr>\n",
       "      <td>0</td>\n",
       "      <td>1000</td>\n",
       "      <td>5</td>\n",
       "      <td>17</td>\n",
       "      <td>159.0</td>\n",
       "    </tr>\n",
       "    <tr>\n",
       "      <td>1</td>\n",
       "      <td>1000</td>\n",
       "      <td>6</td>\n",
       "      <td>28</td>\n",
       "      <td>172.0</td>\n",
       "    </tr>\n",
       "    <tr>\n",
       "      <td>2</td>\n",
       "      <td>1000</td>\n",
       "      <td>7</td>\n",
       "      <td>41</td>\n",
       "      <td>340.0</td>\n",
       "    </tr>\n",
       "    <tr>\n",
       "      <td>3</td>\n",
       "      <td>1000</td>\n",
       "      <td>8</td>\n",
       "      <td>42</td>\n",
       "      <td>408.0</td>\n",
       "    </tr>\n",
       "    <tr>\n",
       "      <td>4</td>\n",
       "      <td>1000</td>\n",
       "      <td>9</td>\n",
       "      <td>46</td>\n",
       "      <td>466.0</td>\n",
       "    </tr>\n",
       "    <tr>\n",
       "      <td>...</td>\n",
       "      <td>...</td>\n",
       "      <td>...</td>\n",
       "      <td>...</td>\n",
       "      <td>...</td>\n",
       "    </tr>\n",
       "    <tr>\n",
       "      <td>3163</td>\n",
       "      <td>1498</td>\n",
       "      <td>10</td>\n",
       "      <td>30</td>\n",
       "      <td>247.0</td>\n",
       "    </tr>\n",
       "    <tr>\n",
       "      <td>3164</td>\n",
       "      <td>1499</td>\n",
       "      <td>9</td>\n",
       "      <td>8</td>\n",
       "      <td>70.0</td>\n",
       "    </tr>\n",
       "    <tr>\n",
       "      <td>3165</td>\n",
       "      <td>1499</td>\n",
       "      <td>10</td>\n",
       "      <td>44</td>\n",
       "      <td>449.0</td>\n",
       "    </tr>\n",
       "    <tr>\n",
       "      <td>3166</td>\n",
       "      <td>1499</td>\n",
       "      <td>11</td>\n",
       "      <td>62</td>\n",
       "      <td>612.0</td>\n",
       "    </tr>\n",
       "    <tr>\n",
       "      <td>3167</td>\n",
       "      <td>1499</td>\n",
       "      <td>12</td>\n",
       "      <td>56</td>\n",
       "      <td>492.0</td>\n",
       "    </tr>\n",
       "  </tbody>\n",
       "</table>\n",
       "<p>3168 rows × 4 columns</p>\n",
       "</div>"
      ],
      "text/plain": [
       "      user_id  month  calls_count  calls_sum\n",
       "0        1000      5           17      159.0\n",
       "1        1000      6           28      172.0\n",
       "2        1000      7           41      340.0\n",
       "3        1000      8           42      408.0\n",
       "4        1000      9           46      466.0\n",
       "...       ...    ...          ...        ...\n",
       "3163     1498     10           30      247.0\n",
       "3164     1499      9            8       70.0\n",
       "3165     1499     10           44      449.0\n",
       "3166     1499     11           62      612.0\n",
       "3167     1499     12           56      492.0\n",
       "\n",
       "[3168 rows x 4 columns]"
      ]
     },
     "execution_count": 40,
     "metadata": {},
     "output_type": "execute_result"
    }
   ],
   "source": [
    "# Таблица \"Количество сделанных звонков и израсходованных минут разговора по месяцам\":\n",
    "\n",
    "calls_month"
   ]
  },
  {
   "cell_type": "markdown",
   "metadata": {},
   "source": [
    "#### Таблица \"Количество отправленных сообщений на каждого клиента по месяцам\":"
   ]
  },
  {
   "cell_type": "code",
   "execution_count": 41,
   "metadata": {},
   "outputs": [],
   "source": [
    "messages['month'] = pd.DatetimeIndex(messages['message_date']).month"
   ]
  },
  {
   "cell_type": "code",
   "execution_count": 42,
   "metadata": {},
   "outputs": [],
   "source": [
    "month_messages = messages.groupby(['user_id', 'month'])[['id']].count().reset_index()"
   ]
  },
  {
   "cell_type": "code",
   "execution_count": 43,
   "metadata": {},
   "outputs": [],
   "source": [
    "month_messages.columns = ['user_id','month','sms_count']"
   ]
  },
  {
   "cell_type": "code",
   "execution_count": 44,
   "metadata": {},
   "outputs": [
    {
     "data": {
      "text/html": [
       "<div>\n",
       "<style scoped>\n",
       "    .dataframe tbody tr th:only-of-type {\n",
       "        vertical-align: middle;\n",
       "    }\n",
       "\n",
       "    .dataframe tbody tr th {\n",
       "        vertical-align: top;\n",
       "    }\n",
       "\n",
       "    .dataframe thead th {\n",
       "        text-align: right;\n",
       "    }\n",
       "</style>\n",
       "<table border=\"1\" class=\"dataframe\">\n",
       "  <thead>\n",
       "    <tr style=\"text-align: right;\">\n",
       "      <th></th>\n",
       "      <th>user_id</th>\n",
       "      <th>month</th>\n",
       "      <th>sms_count</th>\n",
       "    </tr>\n",
       "  </thead>\n",
       "  <tbody>\n",
       "    <tr>\n",
       "      <td>0</td>\n",
       "      <td>1000</td>\n",
       "      <td>5</td>\n",
       "      <td>22</td>\n",
       "    </tr>\n",
       "    <tr>\n",
       "      <td>1</td>\n",
       "      <td>1000</td>\n",
       "      <td>6</td>\n",
       "      <td>60</td>\n",
       "    </tr>\n",
       "    <tr>\n",
       "      <td>2</td>\n",
       "      <td>1000</td>\n",
       "      <td>7</td>\n",
       "      <td>75</td>\n",
       "    </tr>\n",
       "    <tr>\n",
       "      <td>3</td>\n",
       "      <td>1000</td>\n",
       "      <td>8</td>\n",
       "      <td>81</td>\n",
       "    </tr>\n",
       "    <tr>\n",
       "      <td>4</td>\n",
       "      <td>1000</td>\n",
       "      <td>9</td>\n",
       "      <td>57</td>\n",
       "    </tr>\n",
       "    <tr>\n",
       "      <td>...</td>\n",
       "      <td>...</td>\n",
       "      <td>...</td>\n",
       "      <td>...</td>\n",
       "    </tr>\n",
       "    <tr>\n",
       "      <td>2712</td>\n",
       "      <td>1498</td>\n",
       "      <td>10</td>\n",
       "      <td>42</td>\n",
       "    </tr>\n",
       "    <tr>\n",
       "      <td>2713</td>\n",
       "      <td>1499</td>\n",
       "      <td>9</td>\n",
       "      <td>11</td>\n",
       "    </tr>\n",
       "    <tr>\n",
       "      <td>2714</td>\n",
       "      <td>1499</td>\n",
       "      <td>10</td>\n",
       "      <td>48</td>\n",
       "    </tr>\n",
       "    <tr>\n",
       "      <td>2715</td>\n",
       "      <td>1499</td>\n",
       "      <td>11</td>\n",
       "      <td>59</td>\n",
       "    </tr>\n",
       "    <tr>\n",
       "      <td>2716</td>\n",
       "      <td>1499</td>\n",
       "      <td>12</td>\n",
       "      <td>66</td>\n",
       "    </tr>\n",
       "  </tbody>\n",
       "</table>\n",
       "<p>2717 rows × 3 columns</p>\n",
       "</div>"
      ],
      "text/plain": [
       "      user_id  month  sms_count\n",
       "0        1000      5         22\n",
       "1        1000      6         60\n",
       "2        1000      7         75\n",
       "3        1000      8         81\n",
       "4        1000      9         57\n",
       "...       ...    ...        ...\n",
       "2712     1498     10         42\n",
       "2713     1499      9         11\n",
       "2714     1499     10         48\n",
       "2715     1499     11         59\n",
       "2716     1499     12         66\n",
       "\n",
       "[2717 rows x 3 columns]"
      ]
     },
     "execution_count": 44,
     "metadata": {},
     "output_type": "execute_result"
    }
   ],
   "source": [
    "# Таблица \"Количество отправленных сообщений на каждого клиента по месяцам\":\n",
    "month_messages"
   ]
  },
  {
   "cell_type": "markdown",
   "metadata": {},
   "source": [
    "#### Таблица \"Объем израсходованного интернет-трафика на каждого клиента по месяцам\":"
   ]
  },
  {
   "cell_type": "code",
   "execution_count": 45,
   "metadata": {},
   "outputs": [],
   "source": [
    "internet['month'] = pd.DatetimeIndex(internet['session_date']).month"
   ]
  },
  {
   "cell_type": "code",
   "execution_count": 46,
   "metadata": {},
   "outputs": [],
   "source": [
    "month_internet = internet.groupby(['user_id', 'month'])[['mb_used']].sum().reset_index()"
   ]
  },
  {
   "cell_type": "code",
   "execution_count": 47,
   "metadata": {},
   "outputs": [],
   "source": [
    "month_internet.columns = ['user_id','month','internet']"
   ]
  },
  {
   "cell_type": "code",
   "execution_count": 48,
   "metadata": {},
   "outputs": [
    {
     "data": {
      "text/html": [
       "<div>\n",
       "<style scoped>\n",
       "    .dataframe tbody tr th:only-of-type {\n",
       "        vertical-align: middle;\n",
       "    }\n",
       "\n",
       "    .dataframe tbody tr th {\n",
       "        vertical-align: top;\n",
       "    }\n",
       "\n",
       "    .dataframe thead th {\n",
       "        text-align: right;\n",
       "    }\n",
       "</style>\n",
       "<table border=\"1\" class=\"dataframe\">\n",
       "  <thead>\n",
       "    <tr style=\"text-align: right;\">\n",
       "      <th></th>\n",
       "      <th>user_id</th>\n",
       "      <th>month</th>\n",
       "      <th>internet</th>\n",
       "    </tr>\n",
       "  </thead>\n",
       "  <tbody>\n",
       "    <tr>\n",
       "      <td>0</td>\n",
       "      <td>1000</td>\n",
       "      <td>5</td>\n",
       "      <td>2256.0</td>\n",
       "    </tr>\n",
       "    <tr>\n",
       "      <td>1</td>\n",
       "      <td>1000</td>\n",
       "      <td>6</td>\n",
       "      <td>23257.0</td>\n",
       "    </tr>\n",
       "    <tr>\n",
       "      <td>2</td>\n",
       "      <td>1000</td>\n",
       "      <td>7</td>\n",
       "      <td>14016.0</td>\n",
       "    </tr>\n",
       "    <tr>\n",
       "      <td>3</td>\n",
       "      <td>1000</td>\n",
       "      <td>8</td>\n",
       "      <td>14070.0</td>\n",
       "    </tr>\n",
       "    <tr>\n",
       "      <td>4</td>\n",
       "      <td>1000</td>\n",
       "      <td>9</td>\n",
       "      <td>14581.0</td>\n",
       "    </tr>\n",
       "    <tr>\n",
       "      <td>...</td>\n",
       "      <td>...</td>\n",
       "      <td>...</td>\n",
       "      <td>...</td>\n",
       "    </tr>\n",
       "    <tr>\n",
       "      <td>3196</td>\n",
       "      <td>1498</td>\n",
       "      <td>10</td>\n",
       "      <td>20604.0</td>\n",
       "    </tr>\n",
       "    <tr>\n",
       "      <td>3197</td>\n",
       "      <td>1499</td>\n",
       "      <td>9</td>\n",
       "      <td>1848.0</td>\n",
       "    </tr>\n",
       "    <tr>\n",
       "      <td>3198</td>\n",
       "      <td>1499</td>\n",
       "      <td>10</td>\n",
       "      <td>17809.0</td>\n",
       "    </tr>\n",
       "    <tr>\n",
       "      <td>3199</td>\n",
       "      <td>1499</td>\n",
       "      <td>11</td>\n",
       "      <td>17984.0</td>\n",
       "    </tr>\n",
       "    <tr>\n",
       "      <td>3200</td>\n",
       "      <td>1499</td>\n",
       "      <td>12</td>\n",
       "      <td>13077.0</td>\n",
       "    </tr>\n",
       "  </tbody>\n",
       "</table>\n",
       "<p>3201 rows × 3 columns</p>\n",
       "</div>"
      ],
      "text/plain": [
       "      user_id  month  internet\n",
       "0        1000      5    2256.0\n",
       "1        1000      6   23257.0\n",
       "2        1000      7   14016.0\n",
       "3        1000      8   14070.0\n",
       "4        1000      9   14581.0\n",
       "...       ...    ...       ...\n",
       "3196     1498     10   20604.0\n",
       "3197     1499      9    1848.0\n",
       "3198     1499     10   17809.0\n",
       "3199     1499     11   17984.0\n",
       "3200     1499     12   13077.0\n",
       "\n",
       "[3201 rows x 3 columns]"
      ]
     },
     "execution_count": 48,
     "metadata": {},
     "output_type": "execute_result"
    }
   ],
   "source": [
    "# Таблица \"Объем израсходованного интернет-трафика на каждого клиента по месяцам\":\n",
    "month_internet"
   ]
  },
  {
   "cell_type": "markdown",
   "metadata": {},
   "source": [
    "#### Теперь создаем из предыдущих трех таблиц одну Общую Таблицу \"Количество сделанных звонков и израсходованных минут разговора, количество отправленных сообщений, объем израсходованного интернет-трафика на каждого клиента по месяцам\":"
   ]
  },
  {
   "cell_type": "code",
   "execution_count": 49,
   "metadata": {},
   "outputs": [],
   "source": [
    "report = calls_month.merge(month_messages,how='outer',on=['user_id','month'])\n",
    "\n",
    "# после проверки, по совету Алексея, чтобы не терять данные объединяем через how = outer (внешняя общая область)"
   ]
  },
  {
   "cell_type": "code",
   "execution_count": 50,
   "metadata": {},
   "outputs": [
    {
     "name": "stdout",
     "output_type": "stream",
     "text": [
      "<class 'pandas.core.frame.DataFrame'>\n",
      "Int64Index: 3212 entries, 0 to 3211\n",
      "Data columns (total 5 columns):\n",
      "user_id        3212 non-null int64\n",
      "month          3212 non-null int64\n",
      "calls_count    3168 non-null float64\n",
      "calls_sum      3168 non-null float64\n",
      "sms_count      2717 non-null float64\n",
      "dtypes: float64(3), int64(2)\n",
      "memory usage: 150.6 KB\n"
     ]
    }
   ],
   "source": [
    "report.info()"
   ]
  },
  {
   "cell_type": "code",
   "execution_count": 51,
   "metadata": {},
   "outputs": [],
   "source": [
    "report = report.merge(month_internet,how='outer',on=['user_id','month'])"
   ]
  },
  {
   "cell_type": "code",
   "execution_count": 52,
   "metadata": {},
   "outputs": [],
   "source": [
    "# создадим датайфрейм из таблицы Users с информацией по users_id, тарифу и городу:\n",
    "\n",
    "users_tariff_city = users[['user_id', 'tariff', 'city']]\n",
    "users_tariff_city.columns = ['user_id', 'tariff_name', 'city']"
   ]
  },
  {
   "cell_type": "code",
   "execution_count": 53,
   "metadata": {},
   "outputs": [],
   "source": [
    "report = report.merge(users_tariff_city,how='left',on=['user_id'])\n",
    "\n",
    "# после проверки, по совету Алексея, чтобы остались данные только основного отчета объединяем через how = left"
   ]
  },
  {
   "cell_type": "code",
   "execution_count": 54,
   "metadata": {},
   "outputs": [],
   "source": [
    "# добавим данные из таблицы Tariffs с информацией по тарифу:\n",
    "\n",
    "report = report.merge(tariffs,how='left',on=['tariff_name'])"
   ]
  },
  {
   "cell_type": "markdown",
   "metadata": {},
   "source": [
    "### Общая Таблица \"Количество минут разговора, отправленных сообщений, интернет-трафика на каждого клиента с данными по тарифу по месяцам\":"
   ]
  },
  {
   "cell_type": "code",
   "execution_count": 55,
   "metadata": {},
   "outputs": [
    {
     "data": {
      "text/html": [
       "<div>\n",
       "<style scoped>\n",
       "    .dataframe tbody tr th:only-of-type {\n",
       "        vertical-align: middle;\n",
       "    }\n",
       "\n",
       "    .dataframe tbody tr th {\n",
       "        vertical-align: top;\n",
       "    }\n",
       "\n",
       "    .dataframe thead th {\n",
       "        text-align: right;\n",
       "    }\n",
       "</style>\n",
       "<table border=\"1\" class=\"dataframe\">\n",
       "  <thead>\n",
       "    <tr style=\"text-align: right;\">\n",
       "      <th></th>\n",
       "      <th>user_id</th>\n",
       "      <th>month</th>\n",
       "      <th>calls_count</th>\n",
       "      <th>calls_sum</th>\n",
       "      <th>sms_count</th>\n",
       "      <th>internet</th>\n",
       "      <th>tariff_name</th>\n",
       "      <th>city</th>\n",
       "      <th>messages_included</th>\n",
       "      <th>mb_per_month_included</th>\n",
       "      <th>minutes_included</th>\n",
       "      <th>rub_monthly_fee</th>\n",
       "      <th>rub_per_gb</th>\n",
       "      <th>rub_per_message</th>\n",
       "      <th>rub_per_minute</th>\n",
       "    </tr>\n",
       "  </thead>\n",
       "  <tbody>\n",
       "    <tr>\n",
       "      <td>0</td>\n",
       "      <td>1000</td>\n",
       "      <td>5</td>\n",
       "      <td>17.0</td>\n",
       "      <td>159.0</td>\n",
       "      <td>22.0</td>\n",
       "      <td>2256.0</td>\n",
       "      <td>ultra</td>\n",
       "      <td>Краснодар</td>\n",
       "      <td>1000</td>\n",
       "      <td>30720</td>\n",
       "      <td>3000</td>\n",
       "      <td>1950</td>\n",
       "      <td>150</td>\n",
       "      <td>1</td>\n",
       "      <td>1</td>\n",
       "    </tr>\n",
       "    <tr>\n",
       "      <td>1</td>\n",
       "      <td>1000</td>\n",
       "      <td>6</td>\n",
       "      <td>28.0</td>\n",
       "      <td>172.0</td>\n",
       "      <td>60.0</td>\n",
       "      <td>23257.0</td>\n",
       "      <td>ultra</td>\n",
       "      <td>Краснодар</td>\n",
       "      <td>1000</td>\n",
       "      <td>30720</td>\n",
       "      <td>3000</td>\n",
       "      <td>1950</td>\n",
       "      <td>150</td>\n",
       "      <td>1</td>\n",
       "      <td>1</td>\n",
       "    </tr>\n",
       "    <tr>\n",
       "      <td>2</td>\n",
       "      <td>1000</td>\n",
       "      <td>7</td>\n",
       "      <td>41.0</td>\n",
       "      <td>340.0</td>\n",
       "      <td>75.0</td>\n",
       "      <td>14016.0</td>\n",
       "      <td>ultra</td>\n",
       "      <td>Краснодар</td>\n",
       "      <td>1000</td>\n",
       "      <td>30720</td>\n",
       "      <td>3000</td>\n",
       "      <td>1950</td>\n",
       "      <td>150</td>\n",
       "      <td>1</td>\n",
       "      <td>1</td>\n",
       "    </tr>\n",
       "    <tr>\n",
       "      <td>3</td>\n",
       "      <td>1000</td>\n",
       "      <td>8</td>\n",
       "      <td>42.0</td>\n",
       "      <td>408.0</td>\n",
       "      <td>81.0</td>\n",
       "      <td>14070.0</td>\n",
       "      <td>ultra</td>\n",
       "      <td>Краснодар</td>\n",
       "      <td>1000</td>\n",
       "      <td>30720</td>\n",
       "      <td>3000</td>\n",
       "      <td>1950</td>\n",
       "      <td>150</td>\n",
       "      <td>1</td>\n",
       "      <td>1</td>\n",
       "    </tr>\n",
       "    <tr>\n",
       "      <td>4</td>\n",
       "      <td>1000</td>\n",
       "      <td>9</td>\n",
       "      <td>46.0</td>\n",
       "      <td>466.0</td>\n",
       "      <td>57.0</td>\n",
       "      <td>14581.0</td>\n",
       "      <td>ultra</td>\n",
       "      <td>Краснодар</td>\n",
       "      <td>1000</td>\n",
       "      <td>30720</td>\n",
       "      <td>3000</td>\n",
       "      <td>1950</td>\n",
       "      <td>150</td>\n",
       "      <td>1</td>\n",
       "      <td>1</td>\n",
       "    </tr>\n",
       "    <tr>\n",
       "      <td>...</td>\n",
       "      <td>...</td>\n",
       "      <td>...</td>\n",
       "      <td>...</td>\n",
       "      <td>...</td>\n",
       "      <td>...</td>\n",
       "      <td>...</td>\n",
       "      <td>...</td>\n",
       "      <td>...</td>\n",
       "      <td>...</td>\n",
       "      <td>...</td>\n",
       "      <td>...</td>\n",
       "      <td>...</td>\n",
       "      <td>...</td>\n",
       "      <td>...</td>\n",
       "      <td>...</td>\n",
       "    </tr>\n",
       "    <tr>\n",
       "      <td>3209</td>\n",
       "      <td>1489</td>\n",
       "      <td>10</td>\n",
       "      <td>NaN</td>\n",
       "      <td>NaN</td>\n",
       "      <td>21.0</td>\n",
       "      <td>19588.0</td>\n",
       "      <td>smart</td>\n",
       "      <td>Санкт-Петербург</td>\n",
       "      <td>50</td>\n",
       "      <td>15360</td>\n",
       "      <td>500</td>\n",
       "      <td>550</td>\n",
       "      <td>200</td>\n",
       "      <td>3</td>\n",
       "      <td>3</td>\n",
       "    </tr>\n",
       "    <tr>\n",
       "      <td>3210</td>\n",
       "      <td>1489</td>\n",
       "      <td>11</td>\n",
       "      <td>NaN</td>\n",
       "      <td>NaN</td>\n",
       "      <td>20.0</td>\n",
       "      <td>17516.0</td>\n",
       "      <td>smart</td>\n",
       "      <td>Санкт-Петербург</td>\n",
       "      <td>50</td>\n",
       "      <td>15360</td>\n",
       "      <td>500</td>\n",
       "      <td>550</td>\n",
       "      <td>200</td>\n",
       "      <td>3</td>\n",
       "      <td>3</td>\n",
       "    </tr>\n",
       "    <tr>\n",
       "      <td>3211</td>\n",
       "      <td>1489</td>\n",
       "      <td>12</td>\n",
       "      <td>NaN</td>\n",
       "      <td>NaN</td>\n",
       "      <td>35.0</td>\n",
       "      <td>17341.0</td>\n",
       "      <td>smart</td>\n",
       "      <td>Санкт-Петербург</td>\n",
       "      <td>50</td>\n",
       "      <td>15360</td>\n",
       "      <td>500</td>\n",
       "      <td>550</td>\n",
       "      <td>200</td>\n",
       "      <td>3</td>\n",
       "      <td>3</td>\n",
       "    </tr>\n",
       "    <tr>\n",
       "      <td>3212</td>\n",
       "      <td>1240</td>\n",
       "      <td>2</td>\n",
       "      <td>NaN</td>\n",
       "      <td>NaN</td>\n",
       "      <td>NaN</td>\n",
       "      <td>961.0</td>\n",
       "      <td>ultra</td>\n",
       "      <td>Воронеж</td>\n",
       "      <td>1000</td>\n",
       "      <td>30720</td>\n",
       "      <td>3000</td>\n",
       "      <td>1950</td>\n",
       "      <td>150</td>\n",
       "      <td>1</td>\n",
       "      <td>1</td>\n",
       "    </tr>\n",
       "    <tr>\n",
       "      <td>3213</td>\n",
       "      <td>1476</td>\n",
       "      <td>4</td>\n",
       "      <td>NaN</td>\n",
       "      <td>NaN</td>\n",
       "      <td>NaN</td>\n",
       "      <td>531.0</td>\n",
       "      <td>ultra</td>\n",
       "      <td>Москва</td>\n",
       "      <td>1000</td>\n",
       "      <td>30720</td>\n",
       "      <td>3000</td>\n",
       "      <td>1950</td>\n",
       "      <td>150</td>\n",
       "      <td>1</td>\n",
       "      <td>1</td>\n",
       "    </tr>\n",
       "  </tbody>\n",
       "</table>\n",
       "<p>3214 rows × 15 columns</p>\n",
       "</div>"
      ],
      "text/plain": [
       "      user_id  month  calls_count  calls_sum  sms_count  internet tariff_name  \\\n",
       "0        1000      5         17.0      159.0       22.0    2256.0       ultra   \n",
       "1        1000      6         28.0      172.0       60.0   23257.0       ultra   \n",
       "2        1000      7         41.0      340.0       75.0   14016.0       ultra   \n",
       "3        1000      8         42.0      408.0       81.0   14070.0       ultra   \n",
       "4        1000      9         46.0      466.0       57.0   14581.0       ultra   \n",
       "...       ...    ...          ...        ...        ...       ...         ...   \n",
       "3209     1489     10          NaN        NaN       21.0   19588.0       smart   \n",
       "3210     1489     11          NaN        NaN       20.0   17516.0       smart   \n",
       "3211     1489     12          NaN        NaN       35.0   17341.0       smart   \n",
       "3212     1240      2          NaN        NaN        NaN     961.0       ultra   \n",
       "3213     1476      4          NaN        NaN        NaN     531.0       ultra   \n",
       "\n",
       "                 city  messages_included  mb_per_month_included  \\\n",
       "0           Краснодар               1000                  30720   \n",
       "1           Краснодар               1000                  30720   \n",
       "2           Краснодар               1000                  30720   \n",
       "3           Краснодар               1000                  30720   \n",
       "4           Краснодар               1000                  30720   \n",
       "...               ...                ...                    ...   \n",
       "3209  Санкт-Петербург                 50                  15360   \n",
       "3210  Санкт-Петербург                 50                  15360   \n",
       "3211  Санкт-Петербург                 50                  15360   \n",
       "3212          Воронеж               1000                  30720   \n",
       "3213           Москва               1000                  30720   \n",
       "\n",
       "      minutes_included  rub_monthly_fee  rub_per_gb  rub_per_message  \\\n",
       "0                 3000             1950         150                1   \n",
       "1                 3000             1950         150                1   \n",
       "2                 3000             1950         150                1   \n",
       "3                 3000             1950         150                1   \n",
       "4                 3000             1950         150                1   \n",
       "...                ...              ...         ...              ...   \n",
       "3209               500              550         200                3   \n",
       "3210               500              550         200                3   \n",
       "3211               500              550         200                3   \n",
       "3212              3000             1950         150                1   \n",
       "3213              3000             1950         150                1   \n",
       "\n",
       "      rub_per_minute  \n",
       "0                  1  \n",
       "1                  1  \n",
       "2                  1  \n",
       "3                  1  \n",
       "4                  1  \n",
       "...              ...  \n",
       "3209               3  \n",
       "3210               3  \n",
       "3211               3  \n",
       "3212               1  \n",
       "3213               1  \n",
       "\n",
       "[3214 rows x 15 columns]"
      ]
     },
     "execution_count": 55,
     "metadata": {},
     "output_type": "execute_result"
    }
   ],
   "source": [
    "# Таблица \"Количество сделанных звонков и израсходованных минут разговора,\n",
    "# количество отправленных сообщений, объем израсходованного интернет-трафика на каждого клиента по месяцам\":\n",
    "report"
   ]
  },
  {
   "cell_type": "code",
   "execution_count": 56,
   "metadata": {},
   "outputs": [
    {
     "data": {
      "text/plain": [
       "user_id                    0\n",
       "month                      0\n",
       "calls_count               46\n",
       "calls_sum                 46\n",
       "sms_count                497\n",
       "internet                  13\n",
       "tariff_name                0\n",
       "city                       0\n",
       "messages_included          0\n",
       "mb_per_month_included      0\n",
       "minutes_included           0\n",
       "rub_monthly_fee            0\n",
       "rub_per_gb                 0\n",
       "rub_per_message            0\n",
       "rub_per_minute             0\n",
       "dtype: int64"
      ]
     },
     "execution_count": 56,
     "metadata": {},
     "output_type": "execute_result"
    }
   ],
   "source": [
    "# посмотрим и подсчитаем пропуски:\n",
    "report.isnull().sum()"
   ]
  },
  {
   "cell_type": "markdown",
   "metadata": {},
   "source": [
    "Пропуски есть в столбцах calls_count, calls_sum, sms_count и internet. Видимо, некоторые из пользователей за рассматриваемый период времени в какой то месяц не звонили, не отправляли СМС, не выходили в интернет. Поэтому проставим в этих пропусках нули, которые будут означать, что в конкретном месяце данный клиент не использовал какой то вид услуг:"
   ]
  },
  {
   "cell_type": "code",
   "execution_count": 57,
   "metadata": {},
   "outputs": [],
   "source": [
    "report = report.fillna(0)"
   ]
  },
  {
   "cell_type": "code",
   "execution_count": 58,
   "metadata": {},
   "outputs": [
    {
     "data": {
      "text/plain": [
       "user_id                  0\n",
       "month                    0\n",
       "calls_count              0\n",
       "calls_sum                0\n",
       "sms_count                0\n",
       "internet                 0\n",
       "tariff_name              0\n",
       "city                     0\n",
       "messages_included        0\n",
       "mb_per_month_included    0\n",
       "minutes_included         0\n",
       "rub_monthly_fee          0\n",
       "rub_per_gb               0\n",
       "rub_per_message          0\n",
       "rub_per_minute           0\n",
       "dtype: int64"
      ]
     },
     "execution_count": 58,
     "metadata": {},
     "output_type": "execute_result"
    }
   ],
   "source": [
    "# проверяем:\n",
    "\n",
    "report.isnull().sum()"
   ]
  },
  {
   "cell_type": "markdown",
   "metadata": {},
   "source": [
    "### Теперь посчитаем помесячную выручку с каждого пользователя (вычтем бесплатный лимит из суммарного количества звонков, сообщений и интернет-трафика; остаток умножим на значение из тарифного плана; и прибавим абонентскую плату, соответствующую тарифному плану):"
   ]
  },
  {
   "cell_type": "code",
   "execution_count": 59,
   "metadata": {},
   "outputs": [],
   "source": [
    "# создадим функцию для добавления столбца кол-во минут разговора превысивший бесплатный лимит:\n",
    "\n",
    "def min_calls_over(row):\n",
    "    if row['tariff_name'] == 'smart' and row['calls_sum'] > row['minutes_included']:\n",
    "         return row['calls_sum'] - row['minutes_included']\n",
    "    elif row['tariff_name'] == 'ultra' and row['calls_sum'] > row['minutes_included']:\n",
    "         return row['calls_sum'] - row['minutes_included']\n",
    "    else:\n",
    "         return 0\n",
    "    \n",
    "report['calls_over'] = report.apply(min_calls_over, axis=1)"
   ]
  },
  {
   "cell_type": "code",
   "execution_count": 60,
   "metadata": {},
   "outputs": [],
   "source": [
    "# создадим функцию для добавления столбца кол-во СМС превысивший бесплатный лимит:\n",
    "def rep_sms_over(row):\n",
    "    if row['tariff_name'] == 'smart' and row['sms_count'] > row['messages_included']:\n",
    "         return row['sms_count'] - row['messages_included']\n",
    "    elif row['tariff_name'] == 'ultra' and row['sms_count'] > row['messages_included']:\n",
    "         return row['sms_count'] - row['messages_included']\n",
    "    else:\n",
    "         return 0\n",
    "    \n",
    "report['sms_over'] = report.apply(rep_sms_over, axis=1)"
   ]
  },
  {
   "cell_type": "code",
   "execution_count": 61,
   "metadata": {},
   "outputs": [],
   "source": [
    "# создадим функцию для добавления столбца кол-во Инернет-трафика превысивший бесплатный лимит:\n",
    "\n",
    "def rep_internet_over(row):\n",
    "    if row['tariff_name'] == 'smart' and row['internet'] > row['mb_per_month_included']:\n",
    "         return row['internet'] - row['mb_per_month_included']\n",
    "    elif row['tariff_name'] == 'ultra' and row['internet'] > row['mb_per_month_included']:\n",
    "         return row['internet'] - row['mb_per_month_included']\n",
    "    else:\n",
    "         return 0\n",
    "    \n",
    "report['internet_over'] = report.apply(rep_internet_over, axis=1)"
   ]
  },
  {
   "cell_type": "code",
   "execution_count": 62,
   "metadata": {},
   "outputs": [
    {
     "data": {
      "text/html": [
       "<div>\n",
       "<style scoped>\n",
       "    .dataframe tbody tr th:only-of-type {\n",
       "        vertical-align: middle;\n",
       "    }\n",
       "\n",
       "    .dataframe tbody tr th {\n",
       "        vertical-align: top;\n",
       "    }\n",
       "\n",
       "    .dataframe thead th {\n",
       "        text-align: right;\n",
       "    }\n",
       "</style>\n",
       "<table border=\"1\" class=\"dataframe\">\n",
       "  <thead>\n",
       "    <tr style=\"text-align: right;\">\n",
       "      <th></th>\n",
       "      <th>user_id</th>\n",
       "      <th>month</th>\n",
       "      <th>calls_count</th>\n",
       "      <th>calls_sum</th>\n",
       "      <th>sms_count</th>\n",
       "      <th>internet</th>\n",
       "      <th>tariff_name</th>\n",
       "      <th>city</th>\n",
       "      <th>messages_included</th>\n",
       "      <th>mb_per_month_included</th>\n",
       "      <th>minutes_included</th>\n",
       "      <th>rub_monthly_fee</th>\n",
       "      <th>rub_per_gb</th>\n",
       "      <th>rub_per_message</th>\n",
       "      <th>rub_per_minute</th>\n",
       "      <th>calls_over</th>\n",
       "      <th>sms_over</th>\n",
       "      <th>internet_over</th>\n",
       "    </tr>\n",
       "  </thead>\n",
       "  <tbody>\n",
       "    <tr>\n",
       "      <td>0</td>\n",
       "      <td>1000</td>\n",
       "      <td>5</td>\n",
       "      <td>17.0</td>\n",
       "      <td>159.0</td>\n",
       "      <td>22.0</td>\n",
       "      <td>2256.0</td>\n",
       "      <td>ultra</td>\n",
       "      <td>Краснодар</td>\n",
       "      <td>1000</td>\n",
       "      <td>30720</td>\n",
       "      <td>3000</td>\n",
       "      <td>1950</td>\n",
       "      <td>150</td>\n",
       "      <td>1</td>\n",
       "      <td>1</td>\n",
       "      <td>0.0</td>\n",
       "      <td>0.0</td>\n",
       "      <td>0.0</td>\n",
       "    </tr>\n",
       "    <tr>\n",
       "      <td>1</td>\n",
       "      <td>1000</td>\n",
       "      <td>6</td>\n",
       "      <td>28.0</td>\n",
       "      <td>172.0</td>\n",
       "      <td>60.0</td>\n",
       "      <td>23257.0</td>\n",
       "      <td>ultra</td>\n",
       "      <td>Краснодар</td>\n",
       "      <td>1000</td>\n",
       "      <td>30720</td>\n",
       "      <td>3000</td>\n",
       "      <td>1950</td>\n",
       "      <td>150</td>\n",
       "      <td>1</td>\n",
       "      <td>1</td>\n",
       "      <td>0.0</td>\n",
       "      <td>0.0</td>\n",
       "      <td>0.0</td>\n",
       "    </tr>\n",
       "    <tr>\n",
       "      <td>2</td>\n",
       "      <td>1000</td>\n",
       "      <td>7</td>\n",
       "      <td>41.0</td>\n",
       "      <td>340.0</td>\n",
       "      <td>75.0</td>\n",
       "      <td>14016.0</td>\n",
       "      <td>ultra</td>\n",
       "      <td>Краснодар</td>\n",
       "      <td>1000</td>\n",
       "      <td>30720</td>\n",
       "      <td>3000</td>\n",
       "      <td>1950</td>\n",
       "      <td>150</td>\n",
       "      <td>1</td>\n",
       "      <td>1</td>\n",
       "      <td>0.0</td>\n",
       "      <td>0.0</td>\n",
       "      <td>0.0</td>\n",
       "    </tr>\n",
       "    <tr>\n",
       "      <td>3</td>\n",
       "      <td>1000</td>\n",
       "      <td>8</td>\n",
       "      <td>42.0</td>\n",
       "      <td>408.0</td>\n",
       "      <td>81.0</td>\n",
       "      <td>14070.0</td>\n",
       "      <td>ultra</td>\n",
       "      <td>Краснодар</td>\n",
       "      <td>1000</td>\n",
       "      <td>30720</td>\n",
       "      <td>3000</td>\n",
       "      <td>1950</td>\n",
       "      <td>150</td>\n",
       "      <td>1</td>\n",
       "      <td>1</td>\n",
       "      <td>0.0</td>\n",
       "      <td>0.0</td>\n",
       "      <td>0.0</td>\n",
       "    </tr>\n",
       "    <tr>\n",
       "      <td>4</td>\n",
       "      <td>1000</td>\n",
       "      <td>9</td>\n",
       "      <td>46.0</td>\n",
       "      <td>466.0</td>\n",
       "      <td>57.0</td>\n",
       "      <td>14581.0</td>\n",
       "      <td>ultra</td>\n",
       "      <td>Краснодар</td>\n",
       "      <td>1000</td>\n",
       "      <td>30720</td>\n",
       "      <td>3000</td>\n",
       "      <td>1950</td>\n",
       "      <td>150</td>\n",
       "      <td>1</td>\n",
       "      <td>1</td>\n",
       "      <td>0.0</td>\n",
       "      <td>0.0</td>\n",
       "      <td>0.0</td>\n",
       "    </tr>\n",
       "    <tr>\n",
       "      <td>5</td>\n",
       "      <td>1000</td>\n",
       "      <td>10</td>\n",
       "      <td>44.0</td>\n",
       "      <td>350.0</td>\n",
       "      <td>73.0</td>\n",
       "      <td>14717.0</td>\n",
       "      <td>ultra</td>\n",
       "      <td>Краснодар</td>\n",
       "      <td>1000</td>\n",
       "      <td>30720</td>\n",
       "      <td>3000</td>\n",
       "      <td>1950</td>\n",
       "      <td>150</td>\n",
       "      <td>1</td>\n",
       "      <td>1</td>\n",
       "      <td>0.0</td>\n",
       "      <td>0.0</td>\n",
       "      <td>0.0</td>\n",
       "    </tr>\n",
       "    <tr>\n",
       "      <td>6</td>\n",
       "      <td>1000</td>\n",
       "      <td>11</td>\n",
       "      <td>37.0</td>\n",
       "      <td>338.0</td>\n",
       "      <td>58.0</td>\n",
       "      <td>14768.0</td>\n",
       "      <td>ultra</td>\n",
       "      <td>Краснодар</td>\n",
       "      <td>1000</td>\n",
       "      <td>30720</td>\n",
       "      <td>3000</td>\n",
       "      <td>1950</td>\n",
       "      <td>150</td>\n",
       "      <td>1</td>\n",
       "      <td>1</td>\n",
       "      <td>0.0</td>\n",
       "      <td>0.0</td>\n",
       "      <td>0.0</td>\n",
       "    </tr>\n",
       "    <tr>\n",
       "      <td>7</td>\n",
       "      <td>1000</td>\n",
       "      <td>12</td>\n",
       "      <td>38.0</td>\n",
       "      <td>333.0</td>\n",
       "      <td>70.0</td>\n",
       "      <td>9827.0</td>\n",
       "      <td>ultra</td>\n",
       "      <td>Краснодар</td>\n",
       "      <td>1000</td>\n",
       "      <td>30720</td>\n",
       "      <td>3000</td>\n",
       "      <td>1950</td>\n",
       "      <td>150</td>\n",
       "      <td>1</td>\n",
       "      <td>1</td>\n",
       "      <td>0.0</td>\n",
       "      <td>0.0</td>\n",
       "      <td>0.0</td>\n",
       "    </tr>\n",
       "    <tr>\n",
       "      <td>8</td>\n",
       "      <td>1001</td>\n",
       "      <td>11</td>\n",
       "      <td>45.0</td>\n",
       "      <td>430.0</td>\n",
       "      <td>0.0</td>\n",
       "      <td>18452.0</td>\n",
       "      <td>smart</td>\n",
       "      <td>Москва</td>\n",
       "      <td>50</td>\n",
       "      <td>15360</td>\n",
       "      <td>500</td>\n",
       "      <td>550</td>\n",
       "      <td>200</td>\n",
       "      <td>3</td>\n",
       "      <td>3</td>\n",
       "      <td>0.0</td>\n",
       "      <td>0.0</td>\n",
       "      <td>3092.0</td>\n",
       "    </tr>\n",
       "    <tr>\n",
       "      <td>9</td>\n",
       "      <td>1001</td>\n",
       "      <td>12</td>\n",
       "      <td>47.0</td>\n",
       "      <td>414.0</td>\n",
       "      <td>0.0</td>\n",
       "      <td>14053.0</td>\n",
       "      <td>smart</td>\n",
       "      <td>Москва</td>\n",
       "      <td>50</td>\n",
       "      <td>15360</td>\n",
       "      <td>500</td>\n",
       "      <td>550</td>\n",
       "      <td>200</td>\n",
       "      <td>3</td>\n",
       "      <td>3</td>\n",
       "      <td>0.0</td>\n",
       "      <td>0.0</td>\n",
       "      <td>0.0</td>\n",
       "    </tr>\n",
       "  </tbody>\n",
       "</table>\n",
       "</div>"
      ],
      "text/plain": [
       "   user_id  month  calls_count  calls_sum  sms_count  internet tariff_name  \\\n",
       "0     1000      5         17.0      159.0       22.0    2256.0       ultra   \n",
       "1     1000      6         28.0      172.0       60.0   23257.0       ultra   \n",
       "2     1000      7         41.0      340.0       75.0   14016.0       ultra   \n",
       "3     1000      8         42.0      408.0       81.0   14070.0       ultra   \n",
       "4     1000      9         46.0      466.0       57.0   14581.0       ultra   \n",
       "5     1000     10         44.0      350.0       73.0   14717.0       ultra   \n",
       "6     1000     11         37.0      338.0       58.0   14768.0       ultra   \n",
       "7     1000     12         38.0      333.0       70.0    9827.0       ultra   \n",
       "8     1001     11         45.0      430.0        0.0   18452.0       smart   \n",
       "9     1001     12         47.0      414.0        0.0   14053.0       smart   \n",
       "\n",
       "        city  messages_included  mb_per_month_included  minutes_included  \\\n",
       "0  Краснодар               1000                  30720              3000   \n",
       "1  Краснодар               1000                  30720              3000   \n",
       "2  Краснодар               1000                  30720              3000   \n",
       "3  Краснодар               1000                  30720              3000   \n",
       "4  Краснодар               1000                  30720              3000   \n",
       "5  Краснодар               1000                  30720              3000   \n",
       "6  Краснодар               1000                  30720              3000   \n",
       "7  Краснодар               1000                  30720              3000   \n",
       "8     Москва                 50                  15360               500   \n",
       "9     Москва                 50                  15360               500   \n",
       "\n",
       "   rub_monthly_fee  rub_per_gb  rub_per_message  rub_per_minute  calls_over  \\\n",
       "0             1950         150                1               1         0.0   \n",
       "1             1950         150                1               1         0.0   \n",
       "2             1950         150                1               1         0.0   \n",
       "3             1950         150                1               1         0.0   \n",
       "4             1950         150                1               1         0.0   \n",
       "5             1950         150                1               1         0.0   \n",
       "6             1950         150                1               1         0.0   \n",
       "7             1950         150                1               1         0.0   \n",
       "8              550         200                3               3         0.0   \n",
       "9              550         200                3               3         0.0   \n",
       "\n",
       "   sms_over  internet_over  \n",
       "0       0.0            0.0  \n",
       "1       0.0            0.0  \n",
       "2       0.0            0.0  \n",
       "3       0.0            0.0  \n",
       "4       0.0            0.0  \n",
       "5       0.0            0.0  \n",
       "6       0.0            0.0  \n",
       "7       0.0            0.0  \n",
       "8       0.0         3092.0  \n",
       "9       0.0            0.0  "
      ]
     },
     "execution_count": 62,
     "metadata": {},
     "output_type": "execute_result"
    }
   ],
   "source": [
    "# проверяем общую таблицу:\n",
    "report.head(10)"
   ]
  },
  {
   "cell_type": "markdown",
   "metadata": {},
   "source": [
    "### Итоговая Таблица с помесячной выручкой с каждого пользователя :"
   ]
  },
  {
   "cell_type": "code",
   "execution_count": 63,
   "metadata": {},
   "outputs": [],
   "source": [
    "# функция для расчета и добавления столбца с помесячной выручкой с каждого пользователя:\n",
    "\n",
    "def rep_month_revenue(row):\n",
    "    sum_per_month = 0\n",
    "    if row['tariff_name'] == 'smart':\n",
    "        sum_per_month += row['rub_monthly_fee']\n",
    "        sum_per_month += row['calls_over'] * row['rub_per_minute']\n",
    "        sum_per_month += row['sms_over'] * row['rub_per_message']\n",
    "        sum_per_month += row['internet_over']/1024 * row['rub_per_gb']\n",
    "        return sum_per_month\n",
    "    else:\n",
    "        sum_per_month += row['rub_monthly_fee']\n",
    "        sum_per_month += row['calls_over'] * row['rub_per_minute']\n",
    "        sum_per_month += row['sms_over'] * row['rub_per_message']\n",
    "        sum_per_month += row['internet_over']/1024 * row['rub_per_gb']\n",
    "        return sum_per_month\n",
    "\n",
    "report['month_revenue'] = report.apply(rep_month_revenue, axis=1).astype('int')"
   ]
  },
  {
   "cell_type": "code",
   "execution_count": 64,
   "metadata": {},
   "outputs": [
    {
     "data": {
      "text/html": [
       "<div>\n",
       "<style scoped>\n",
       "    .dataframe tbody tr th:only-of-type {\n",
       "        vertical-align: middle;\n",
       "    }\n",
       "\n",
       "    .dataframe tbody tr th {\n",
       "        vertical-align: top;\n",
       "    }\n",
       "\n",
       "    .dataframe thead th {\n",
       "        text-align: right;\n",
       "    }\n",
       "</style>\n",
       "<table border=\"1\" class=\"dataframe\">\n",
       "  <thead>\n",
       "    <tr style=\"text-align: right;\">\n",
       "      <th></th>\n",
       "      <th>user_id</th>\n",
       "      <th>month</th>\n",
       "      <th>calls_count</th>\n",
       "      <th>calls_sum</th>\n",
       "      <th>sms_count</th>\n",
       "      <th>internet</th>\n",
       "      <th>tariff_name</th>\n",
       "      <th>city</th>\n",
       "      <th>messages_included</th>\n",
       "      <th>mb_per_month_included</th>\n",
       "      <th>minutes_included</th>\n",
       "      <th>rub_monthly_fee</th>\n",
       "      <th>rub_per_gb</th>\n",
       "      <th>rub_per_message</th>\n",
       "      <th>rub_per_minute</th>\n",
       "      <th>calls_over</th>\n",
       "      <th>sms_over</th>\n",
       "      <th>internet_over</th>\n",
       "      <th>month_revenue</th>\n",
       "    </tr>\n",
       "  </thead>\n",
       "  <tbody>\n",
       "    <tr>\n",
       "      <td>0</td>\n",
       "      <td>1000</td>\n",
       "      <td>5</td>\n",
       "      <td>17.0</td>\n",
       "      <td>159.0</td>\n",
       "      <td>22.0</td>\n",
       "      <td>2256.0</td>\n",
       "      <td>ultra</td>\n",
       "      <td>Краснодар</td>\n",
       "      <td>1000</td>\n",
       "      <td>30720</td>\n",
       "      <td>3000</td>\n",
       "      <td>1950</td>\n",
       "      <td>150</td>\n",
       "      <td>1</td>\n",
       "      <td>1</td>\n",
       "      <td>0.0</td>\n",
       "      <td>0.0</td>\n",
       "      <td>0.0</td>\n",
       "      <td>1950</td>\n",
       "    </tr>\n",
       "    <tr>\n",
       "      <td>1</td>\n",
       "      <td>1000</td>\n",
       "      <td>6</td>\n",
       "      <td>28.0</td>\n",
       "      <td>172.0</td>\n",
       "      <td>60.0</td>\n",
       "      <td>23257.0</td>\n",
       "      <td>ultra</td>\n",
       "      <td>Краснодар</td>\n",
       "      <td>1000</td>\n",
       "      <td>30720</td>\n",
       "      <td>3000</td>\n",
       "      <td>1950</td>\n",
       "      <td>150</td>\n",
       "      <td>1</td>\n",
       "      <td>1</td>\n",
       "      <td>0.0</td>\n",
       "      <td>0.0</td>\n",
       "      <td>0.0</td>\n",
       "      <td>1950</td>\n",
       "    </tr>\n",
       "    <tr>\n",
       "      <td>2</td>\n",
       "      <td>1000</td>\n",
       "      <td>7</td>\n",
       "      <td>41.0</td>\n",
       "      <td>340.0</td>\n",
       "      <td>75.0</td>\n",
       "      <td>14016.0</td>\n",
       "      <td>ultra</td>\n",
       "      <td>Краснодар</td>\n",
       "      <td>1000</td>\n",
       "      <td>30720</td>\n",
       "      <td>3000</td>\n",
       "      <td>1950</td>\n",
       "      <td>150</td>\n",
       "      <td>1</td>\n",
       "      <td>1</td>\n",
       "      <td>0.0</td>\n",
       "      <td>0.0</td>\n",
       "      <td>0.0</td>\n",
       "      <td>1950</td>\n",
       "    </tr>\n",
       "    <tr>\n",
       "      <td>3</td>\n",
       "      <td>1000</td>\n",
       "      <td>8</td>\n",
       "      <td>42.0</td>\n",
       "      <td>408.0</td>\n",
       "      <td>81.0</td>\n",
       "      <td>14070.0</td>\n",
       "      <td>ultra</td>\n",
       "      <td>Краснодар</td>\n",
       "      <td>1000</td>\n",
       "      <td>30720</td>\n",
       "      <td>3000</td>\n",
       "      <td>1950</td>\n",
       "      <td>150</td>\n",
       "      <td>1</td>\n",
       "      <td>1</td>\n",
       "      <td>0.0</td>\n",
       "      <td>0.0</td>\n",
       "      <td>0.0</td>\n",
       "      <td>1950</td>\n",
       "    </tr>\n",
       "    <tr>\n",
       "      <td>4</td>\n",
       "      <td>1000</td>\n",
       "      <td>9</td>\n",
       "      <td>46.0</td>\n",
       "      <td>466.0</td>\n",
       "      <td>57.0</td>\n",
       "      <td>14581.0</td>\n",
       "      <td>ultra</td>\n",
       "      <td>Краснодар</td>\n",
       "      <td>1000</td>\n",
       "      <td>30720</td>\n",
       "      <td>3000</td>\n",
       "      <td>1950</td>\n",
       "      <td>150</td>\n",
       "      <td>1</td>\n",
       "      <td>1</td>\n",
       "      <td>0.0</td>\n",
       "      <td>0.0</td>\n",
       "      <td>0.0</td>\n",
       "      <td>1950</td>\n",
       "    </tr>\n",
       "    <tr>\n",
       "      <td>5</td>\n",
       "      <td>1000</td>\n",
       "      <td>10</td>\n",
       "      <td>44.0</td>\n",
       "      <td>350.0</td>\n",
       "      <td>73.0</td>\n",
       "      <td>14717.0</td>\n",
       "      <td>ultra</td>\n",
       "      <td>Краснодар</td>\n",
       "      <td>1000</td>\n",
       "      <td>30720</td>\n",
       "      <td>3000</td>\n",
       "      <td>1950</td>\n",
       "      <td>150</td>\n",
       "      <td>1</td>\n",
       "      <td>1</td>\n",
       "      <td>0.0</td>\n",
       "      <td>0.0</td>\n",
       "      <td>0.0</td>\n",
       "      <td>1950</td>\n",
       "    </tr>\n",
       "    <tr>\n",
       "      <td>6</td>\n",
       "      <td>1000</td>\n",
       "      <td>11</td>\n",
       "      <td>37.0</td>\n",
       "      <td>338.0</td>\n",
       "      <td>58.0</td>\n",
       "      <td>14768.0</td>\n",
       "      <td>ultra</td>\n",
       "      <td>Краснодар</td>\n",
       "      <td>1000</td>\n",
       "      <td>30720</td>\n",
       "      <td>3000</td>\n",
       "      <td>1950</td>\n",
       "      <td>150</td>\n",
       "      <td>1</td>\n",
       "      <td>1</td>\n",
       "      <td>0.0</td>\n",
       "      <td>0.0</td>\n",
       "      <td>0.0</td>\n",
       "      <td>1950</td>\n",
       "    </tr>\n",
       "    <tr>\n",
       "      <td>7</td>\n",
       "      <td>1000</td>\n",
       "      <td>12</td>\n",
       "      <td>38.0</td>\n",
       "      <td>333.0</td>\n",
       "      <td>70.0</td>\n",
       "      <td>9827.0</td>\n",
       "      <td>ultra</td>\n",
       "      <td>Краснодар</td>\n",
       "      <td>1000</td>\n",
       "      <td>30720</td>\n",
       "      <td>3000</td>\n",
       "      <td>1950</td>\n",
       "      <td>150</td>\n",
       "      <td>1</td>\n",
       "      <td>1</td>\n",
       "      <td>0.0</td>\n",
       "      <td>0.0</td>\n",
       "      <td>0.0</td>\n",
       "      <td>1950</td>\n",
       "    </tr>\n",
       "    <tr>\n",
       "      <td>8</td>\n",
       "      <td>1001</td>\n",
       "      <td>11</td>\n",
       "      <td>45.0</td>\n",
       "      <td>430.0</td>\n",
       "      <td>0.0</td>\n",
       "      <td>18452.0</td>\n",
       "      <td>smart</td>\n",
       "      <td>Москва</td>\n",
       "      <td>50</td>\n",
       "      <td>15360</td>\n",
       "      <td>500</td>\n",
       "      <td>550</td>\n",
       "      <td>200</td>\n",
       "      <td>3</td>\n",
       "      <td>3</td>\n",
       "      <td>0.0</td>\n",
       "      <td>0.0</td>\n",
       "      <td>3092.0</td>\n",
       "      <td>1153</td>\n",
       "    </tr>\n",
       "    <tr>\n",
       "      <td>9</td>\n",
       "      <td>1001</td>\n",
       "      <td>12</td>\n",
       "      <td>47.0</td>\n",
       "      <td>414.0</td>\n",
       "      <td>0.0</td>\n",
       "      <td>14053.0</td>\n",
       "      <td>smart</td>\n",
       "      <td>Москва</td>\n",
       "      <td>50</td>\n",
       "      <td>15360</td>\n",
       "      <td>500</td>\n",
       "      <td>550</td>\n",
       "      <td>200</td>\n",
       "      <td>3</td>\n",
       "      <td>3</td>\n",
       "      <td>0.0</td>\n",
       "      <td>0.0</td>\n",
       "      <td>0.0</td>\n",
       "      <td>550</td>\n",
       "    </tr>\n",
       "  </tbody>\n",
       "</table>\n",
       "</div>"
      ],
      "text/plain": [
       "   user_id  month  calls_count  calls_sum  sms_count  internet tariff_name  \\\n",
       "0     1000      5         17.0      159.0       22.0    2256.0       ultra   \n",
       "1     1000      6         28.0      172.0       60.0   23257.0       ultra   \n",
       "2     1000      7         41.0      340.0       75.0   14016.0       ultra   \n",
       "3     1000      8         42.0      408.0       81.0   14070.0       ultra   \n",
       "4     1000      9         46.0      466.0       57.0   14581.0       ultra   \n",
       "5     1000     10         44.0      350.0       73.0   14717.0       ultra   \n",
       "6     1000     11         37.0      338.0       58.0   14768.0       ultra   \n",
       "7     1000     12         38.0      333.0       70.0    9827.0       ultra   \n",
       "8     1001     11         45.0      430.0        0.0   18452.0       smart   \n",
       "9     1001     12         47.0      414.0        0.0   14053.0       smart   \n",
       "\n",
       "        city  messages_included  mb_per_month_included  minutes_included  \\\n",
       "0  Краснодар               1000                  30720              3000   \n",
       "1  Краснодар               1000                  30720              3000   \n",
       "2  Краснодар               1000                  30720              3000   \n",
       "3  Краснодар               1000                  30720              3000   \n",
       "4  Краснодар               1000                  30720              3000   \n",
       "5  Краснодар               1000                  30720              3000   \n",
       "6  Краснодар               1000                  30720              3000   \n",
       "7  Краснодар               1000                  30720              3000   \n",
       "8     Москва                 50                  15360               500   \n",
       "9     Москва                 50                  15360               500   \n",
       "\n",
       "   rub_monthly_fee  rub_per_gb  rub_per_message  rub_per_minute  calls_over  \\\n",
       "0             1950         150                1               1         0.0   \n",
       "1             1950         150                1               1         0.0   \n",
       "2             1950         150                1               1         0.0   \n",
       "3             1950         150                1               1         0.0   \n",
       "4             1950         150                1               1         0.0   \n",
       "5             1950         150                1               1         0.0   \n",
       "6             1950         150                1               1         0.0   \n",
       "7             1950         150                1               1         0.0   \n",
       "8              550         200                3               3         0.0   \n",
       "9              550         200                3               3         0.0   \n",
       "\n",
       "   sms_over  internet_over  month_revenue  \n",
       "0       0.0            0.0           1950  \n",
       "1       0.0            0.0           1950  \n",
       "2       0.0            0.0           1950  \n",
       "3       0.0            0.0           1950  \n",
       "4       0.0            0.0           1950  \n",
       "5       0.0            0.0           1950  \n",
       "6       0.0            0.0           1950  \n",
       "7       0.0            0.0           1950  \n",
       "8       0.0         3092.0           1153  \n",
       "9       0.0            0.0            550  "
      ]
     },
     "execution_count": 64,
     "metadata": {},
     "output_type": "execute_result"
    }
   ],
   "source": [
    "# Итоговая Таблица с помесячной выручкой с каждого пользователя :\n",
    "report.head(10)"
   ]
  },
  {
   "cell_type": "code",
   "execution_count": 65,
   "metadata": {},
   "outputs": [],
   "source": [
    "# расчет годовой выручки за 2018г.:\n",
    "year_revenue = report.pivot_table(index='tariff_name', values='month_revenue', aggfunc=['sum','median'])\n",
    "year_revenue.columns = ['year_revenue', 'median_revenue']"
   ]
  },
  {
   "cell_type": "code",
   "execution_count": 66,
   "metadata": {},
   "outputs": [],
   "source": [
    "year_revenue['users']=users['tariff'].value_counts()"
   ]
  },
  {
   "cell_type": "markdown",
   "metadata": {},
   "source": [
    "### Таблица с годовой выручкой за 2018 г. по каждому тарифу:"
   ]
  },
  {
   "cell_type": "code",
   "execution_count": 67,
   "metadata": {},
   "outputs": [
    {
     "data": {
      "text/html": [
       "<div>\n",
       "<style scoped>\n",
       "    .dataframe tbody tr th:only-of-type {\n",
       "        vertical-align: middle;\n",
       "    }\n",
       "\n",
       "    .dataframe tbody tr th {\n",
       "        vertical-align: top;\n",
       "    }\n",
       "\n",
       "    .dataframe thead th {\n",
       "        text-align: right;\n",
       "    }\n",
       "</style>\n",
       "<table border=\"1\" class=\"dataframe\">\n",
       "  <thead>\n",
       "    <tr style=\"text-align: right;\">\n",
       "      <th></th>\n",
       "      <th>year_revenue</th>\n",
       "      <th>median_revenue</th>\n",
       "      <th>users</th>\n",
       "    </tr>\n",
       "    <tr>\n",
       "      <th>tariff_name</th>\n",
       "      <th></th>\n",
       "      <th></th>\n",
       "      <th></th>\n",
       "    </tr>\n",
       "  </thead>\n",
       "  <tbody>\n",
       "    <tr>\n",
       "      <td>smart</td>\n",
       "      <td>2748486</td>\n",
       "      <td>959</td>\n",
       "      <td>351</td>\n",
       "    </tr>\n",
       "    <tr>\n",
       "      <td>ultra</td>\n",
       "      <td>2029556</td>\n",
       "      <td>1950</td>\n",
       "      <td>149</td>\n",
       "    </tr>\n",
       "  </tbody>\n",
       "</table>\n",
       "</div>"
      ],
      "text/plain": [
       "             year_revenue  median_revenue  users\n",
       "tariff_name                                     \n",
       "smart             2748486             959    351\n",
       "ultra             2029556            1950    149"
      ]
     },
     "execution_count": 67,
     "metadata": {},
     "output_type": "execute_result"
    }
   ],
   "source": [
    "year_revenue"
   ]
  },
  {
   "cell_type": "code",
   "execution_count": 68,
   "metadata": {},
   "outputs": [
    {
     "data": {
      "text/plain": [
       "<matplotlib.axes._subplots.AxesSubplot at 0x7fefa82d9310>"
      ]
     },
     "execution_count": 68,
     "metadata": {},
     "output_type": "execute_result"
    },
    {
     "data": {
      "image/png": "[encoded data removed]",
      "text/plain": [
       "<Figure size 432x288 with 1 Axes>"
      ]
     },
     "metadata": {},
     "output_type": "display_data"
    }
   ],
   "source": [
    "year_revenue.plot(y = 'year_revenue', kind = 'pie', grid=True, title='Выручка за 2018 г. по тарифам')"
   ]
  },
  {
   "cell_type": "markdown",
   "metadata": {},
   "source": [
    "### Таблица \"Количество звонков, минут, смс-сообщений, интернет-трафика и выручки за весь 2018 год\""
   ]
  },
  {
   "cell_type": "code",
   "execution_count": 69,
   "metadata": {},
   "outputs": [
    {
     "data": {
      "text/html": [
       "<div>\n",
       "<style scoped>\n",
       "    .dataframe tbody tr th:only-of-type {\n",
       "        vertical-align: middle;\n",
       "    }\n",
       "\n",
       "    .dataframe tbody tr th {\n",
       "        vertical-align: top;\n",
       "    }\n",
       "\n",
       "    .dataframe thead th {\n",
       "        text-align: right;\n",
       "    }\n",
       "</style>\n",
       "<table border=\"1\" class=\"dataframe\">\n",
       "  <thead>\n",
       "    <tr style=\"text-align: right;\">\n",
       "      <th></th>\n",
       "      <th>calls_count</th>\n",
       "      <th>calls_sum</th>\n",
       "      <th>sms_count</th>\n",
       "      <th>internet</th>\n",
       "      <th>month_revenue</th>\n",
       "    </tr>\n",
       "    <tr>\n",
       "      <th>tariff_name</th>\n",
       "      <th></th>\n",
       "      <th></th>\n",
       "      <th></th>\n",
       "      <th></th>\n",
       "      <th></th>\n",
       "    </tr>\n",
       "  </thead>\n",
       "  <tbody>\n",
       "    <tr>\n",
       "      <td>smart</td>\n",
       "      <td>104646.0</td>\n",
       "      <td>931577.0</td>\n",
       "      <td>74413.0</td>\n",
       "      <td>36174861.0</td>\n",
       "      <td>2748486</td>\n",
       "    </tr>\n",
       "    <tr>\n",
       "      <td>ultra</td>\n",
       "      <td>58348.0</td>\n",
       "      <td>518724.0</td>\n",
       "      <td>48623.0</td>\n",
       "      <td>19194598.0</td>\n",
       "      <td>2029556</td>\n",
       "    </tr>\n",
       "  </tbody>\n",
       "</table>\n",
       "</div>"
      ],
      "text/plain": [
       "             calls_count  calls_sum  sms_count    internet  month_revenue\n",
       "tariff_name                                                              \n",
       "smart           104646.0   931577.0    74413.0  36174861.0        2748486\n",
       "ultra            58348.0   518724.0    48623.0  19194598.0        2029556"
      ]
     },
     "execution_count": 69,
     "metadata": {},
     "output_type": "execute_result"
    }
   ],
   "source": [
    "report.groupby('tariff_name')[['calls_count', 'calls_sum', 'sms_count', 'internet', 'month_revenue']].agg('sum')"
   ]
  },
  {
   "cell_type": "code",
   "execution_count": 70,
   "metadata": {},
   "outputs": [
    {
     "data": {
      "text/plain": [
       "<matplotlib.axes._subplots.AxesSubplot at 0x7fefa4ea3150>"
      ]
     },
     "execution_count": 70,
     "metadata": {},
     "output_type": "execute_result"
    },
    {
     "data": {
      "image/png": "[encoded data removed]",
      "text/plain": [
       "<Figure size 432x288 with 1 Axes>"
      ]
     },
     "metadata": {
      "needs_background": "light"
     },
     "output_type": "display_data"
    }
   ],
   "source": [
    "year_revenue.plot(y = 'users', kind = 'bar', grid=True, title='Кол-во клиентов по каждому тарифу, чел.')"
   ]
  },
  {
   "cell_type": "markdown",
   "metadata": {},
   "source": [
    "### Из данной выборки 500 человек большинство пользуются тарифом Смарт, это 351 человек или 70% от всего количества. Тариф Ультра используют 149 человек или 30%. Также по годовой выручке за 2018 г. больше всего дохода принес тариф Смарт 2 748 486 рублей, выручка по трафику Ультра 2 029 556 рублей. Хотя абонентская плата по тарифу Ультра 1950 руб. в месяц в три с половиной раза выше чем абонентская плата по тарифу Смарт 550 руб. в месяц. За 2018 г. через тариф Смарт, больше всего совершено звонков, отправлено смс и использовано интернет-трафика, и, как следствие, большую часть выручки получено от тарифа Смарт."
   ]
  },
  {
   "cell_type": "markdown",
   "metadata": {},
   "source": [
    "<a id=\"step3\"></a>\n",
    "## Шаг 3. Анализ данных\n",
    "Поведение клиентов оператора, исходя из выборки.\n",
    "\n",
    "Сколько минут разговора, сколько сообщений и какой объём интернет-трафика требуется пользователям каждого тарифа в месяц? \n",
    "\n",
    "Посчитаем среднее количество, дисперсию и стандартное отклонение.\n",
    "\n",
    "Построим гистограммы. Опишем распределения.\n"
   ]
  },
  {
   "cell_type": "code",
   "execution_count": 71,
   "metadata": {},
   "outputs": [],
   "source": [
    "smart_df = report.query('tariff_name == \"smart\"')"
   ]
  },
  {
   "cell_type": "code",
   "execution_count": 72,
   "metadata": {},
   "outputs": [],
   "source": [
    "ultra_df = report.query('tariff_name == \"ultra\"')"
   ]
  },
  {
   "cell_type": "markdown",
   "metadata": {},
   "source": [
    "### По каждому тарифу посмотрим среднее, медиану, стандартное отклонение, количество наблюдений в выборке и разброс их значений"
   ]
  },
  {
   "cell_type": "code",
   "execution_count": 73,
   "metadata": {},
   "outputs": [
    {
     "data": {
      "text/html": [
       "<div>\n",
       "<style scoped>\n",
       "    .dataframe tbody tr th:only-of-type {\n",
       "        vertical-align: middle;\n",
       "    }\n",
       "\n",
       "    .dataframe tbody tr th {\n",
       "        vertical-align: top;\n",
       "    }\n",
       "\n",
       "    .dataframe thead th {\n",
       "        text-align: right;\n",
       "    }\n",
       "</style>\n",
       "<table border=\"1\" class=\"dataframe\">\n",
       "  <thead>\n",
       "    <tr style=\"text-align: right;\">\n",
       "      <th></th>\n",
       "      <th>calls_sum</th>\n",
       "      <th>sms_count</th>\n",
       "      <th>internet</th>\n",
       "      <th>month_revenue</th>\n",
       "    </tr>\n",
       "  </thead>\n",
       "  <tbody>\n",
       "    <tr>\n",
       "      <td>count</td>\n",
       "      <td>2229.000000</td>\n",
       "      <td>2229.000000</td>\n",
       "      <td>2229.000000</td>\n",
       "      <td>2229.000000</td>\n",
       "    </tr>\n",
       "    <tr>\n",
       "      <td>mean</td>\n",
       "      <td>417.934948</td>\n",
       "      <td>33.384029</td>\n",
       "      <td>16229.188425</td>\n",
       "      <td>1233.057873</td>\n",
       "    </tr>\n",
       "    <tr>\n",
       "      <td>std</td>\n",
       "      <td>190.313730</td>\n",
       "      <td>28.227876</td>\n",
       "      <td>5877.576978</td>\n",
       "      <td>787.544032</td>\n",
       "    </tr>\n",
       "    <tr>\n",
       "      <td>min</td>\n",
       "      <td>0.000000</td>\n",
       "      <td>0.000000</td>\n",
       "      <td>0.000000</td>\n",
       "      <td>550.000000</td>\n",
       "    </tr>\n",
       "    <tr>\n",
       "      <td>25%</td>\n",
       "      <td>282.000000</td>\n",
       "      <td>10.000000</td>\n",
       "      <td>12658.000000</td>\n",
       "      <td>550.000000</td>\n",
       "    </tr>\n",
       "    <tr>\n",
       "      <td>50%</td>\n",
       "      <td>422.000000</td>\n",
       "      <td>28.000000</td>\n",
       "      <td>16531.000000</td>\n",
       "      <td>959.000000</td>\n",
       "    </tr>\n",
       "    <tr>\n",
       "      <td>75%</td>\n",
       "      <td>545.000000</td>\n",
       "      <td>51.000000</td>\n",
       "      <td>20068.000000</td>\n",
       "      <td>1668.000000</td>\n",
       "    </tr>\n",
       "    <tr>\n",
       "      <td>max</td>\n",
       "      <td>1435.000000</td>\n",
       "      <td>143.000000</td>\n",
       "      <td>38610.000000</td>\n",
       "      <td>6711.000000</td>\n",
       "    </tr>\n",
       "  </tbody>\n",
       "</table>\n",
       "</div>"
      ],
      "text/plain": [
       "         calls_sum    sms_count      internet  month_revenue\n",
       "count  2229.000000  2229.000000   2229.000000    2229.000000\n",
       "mean    417.934948    33.384029  16229.188425    1233.057873\n",
       "std     190.313730    28.227876   5877.576978     787.544032\n",
       "min       0.000000     0.000000      0.000000     550.000000\n",
       "25%     282.000000    10.000000  12658.000000     550.000000\n",
       "50%     422.000000    28.000000  16531.000000     959.000000\n",
       "75%     545.000000    51.000000  20068.000000    1668.000000\n",
       "max    1435.000000   143.000000  38610.000000    6711.000000"
      ]
     },
     "execution_count": 73,
     "metadata": {},
     "output_type": "execute_result"
    }
   ],
   "source": [
    "# Тариф Смарт:\n",
    "smart_df[['calls_sum', 'sms_count', 'internet', 'month_revenue']].describe()"
   ]
  },
  {
   "cell_type": "code",
   "execution_count": 74,
   "metadata": {
    "scrolled": false
   },
   "outputs": [
    {
     "data": {
      "text/html": [
       "<div>\n",
       "<style scoped>\n",
       "    .dataframe tbody tr th:only-of-type {\n",
       "        vertical-align: middle;\n",
       "    }\n",
       "\n",
       "    .dataframe tbody tr th {\n",
       "        vertical-align: top;\n",
       "    }\n",
       "\n",
       "    .dataframe thead th {\n",
       "        text-align: right;\n",
       "    }\n",
       "</style>\n",
       "<table border=\"1\" class=\"dataframe\">\n",
       "  <thead>\n",
       "    <tr style=\"text-align: right;\">\n",
       "      <th></th>\n",
       "      <th>calls_sum</th>\n",
       "      <th>sms_count</th>\n",
       "      <th>internet</th>\n",
       "      <th>month_revenue</th>\n",
       "    </tr>\n",
       "  </thead>\n",
       "  <tbody>\n",
       "    <tr>\n",
       "      <td>count</td>\n",
       "      <td>985.000000</td>\n",
       "      <td>985.000000</td>\n",
       "      <td>985.000000</td>\n",
       "      <td>985.000000</td>\n",
       "    </tr>\n",
       "    <tr>\n",
       "      <td>mean</td>\n",
       "      <td>526.623350</td>\n",
       "      <td>49.363452</td>\n",
       "      <td>19486.901523</td>\n",
       "      <td>2060.462944</td>\n",
       "    </tr>\n",
       "    <tr>\n",
       "      <td>std</td>\n",
       "      <td>317.606098</td>\n",
       "      <td>47.804457</td>\n",
       "      <td>10096.317202</td>\n",
       "      <td>356.187378</td>\n",
       "    </tr>\n",
       "    <tr>\n",
       "      <td>min</td>\n",
       "      <td>0.000000</td>\n",
       "      <td>0.000000</td>\n",
       "      <td>0.000000</td>\n",
       "      <td>1950.000000</td>\n",
       "    </tr>\n",
       "    <tr>\n",
       "      <td>25%</td>\n",
       "      <td>284.000000</td>\n",
       "      <td>6.000000</td>\n",
       "      <td>11785.000000</td>\n",
       "      <td>1950.000000</td>\n",
       "    </tr>\n",
       "    <tr>\n",
       "      <td>50%</td>\n",
       "      <td>518.000000</td>\n",
       "      <td>38.000000</td>\n",
       "      <td>19324.000000</td>\n",
       "      <td>1950.000000</td>\n",
       "    </tr>\n",
       "    <tr>\n",
       "      <td>75%</td>\n",
       "      <td>752.000000</td>\n",
       "      <td>79.000000</td>\n",
       "      <td>26863.000000</td>\n",
       "      <td>1950.000000</td>\n",
       "    </tr>\n",
       "    <tr>\n",
       "      <td>max</td>\n",
       "      <td>1673.000000</td>\n",
       "      <td>224.000000</td>\n",
       "      <td>49789.000000</td>\n",
       "      <td>4743.000000</td>\n",
       "    </tr>\n",
       "  </tbody>\n",
       "</table>\n",
       "</div>"
      ],
      "text/plain": [
       "         calls_sum   sms_count      internet  month_revenue\n",
       "count   985.000000  985.000000    985.000000     985.000000\n",
       "mean    526.623350   49.363452  19486.901523    2060.462944\n",
       "std     317.606098   47.804457  10096.317202     356.187378\n",
       "min       0.000000    0.000000      0.000000    1950.000000\n",
       "25%     284.000000    6.000000  11785.000000    1950.000000\n",
       "50%     518.000000   38.000000  19324.000000    1950.000000\n",
       "75%     752.000000   79.000000  26863.000000    1950.000000\n",
       "max    1673.000000  224.000000  49789.000000    4743.000000"
      ]
     },
     "execution_count": 74,
     "metadata": {},
     "output_type": "execute_result"
    }
   ],
   "source": [
    "# Тариф Ультра:\n",
    "ultra_df[['calls_sum', 'sms_count', 'internet', 'month_revenue']].describe()"
   ]
  },
  {
   "cell_type": "markdown",
   "metadata": {},
   "source": [
    "### Из описаний видно, что по тарифу Смарт:\n",
    "- среднемесячная длительность минут разговора составляет 418 минут, медиана составила 422 минуты, в среднем большинство клиентов входит в ежемесячный лимит до 500 минут;\n",
    "- смс сообщений в среднем по медиане отправляют 28 штук в месяц, входят в лимит до 50 сообщений;\n",
    "- по интернет-трафику медиана составила 16531 мб., что превышает ежемесячный лимит в 15360 мб.;\n",
    "- среднемесячная выручка по клиенту составила 959 руб., превышение абонентской платы 550 р. на 409 руб. Максимальная выручка с одного клиента за один месяц составила 6711 руб.\n",
    "\n",
    "### по тарифу Ультра:\n",
    "- среднемесячная длительность минут разговора составляет 527 минут, медиана составила 518 минут, в среднем клиенты входят в лимит до 3000 минут;\n",
    "- смс сообщений в среднем по медиане отправляют 38 штук в месяц, входят в лимит до 1000 сообщений;\n",
    "- по интернет-трафику медиана составила 19324 мб., входят в ежемесячный лимит до 30 Гб.;\n",
    "- среднемесячная выручка по клиенту составила ровно 1950 руб., соответствует абонентской плате 1950 р. в месяц. Максимальная выручка с одного клиента за один месяц составила 4743 руб.\n"
   ]
  },
  {
   "cell_type": "code",
   "execution_count": 75,
   "metadata": {},
   "outputs": [
    {
     "data": {
      "text/html": [
       "<div>\n",
       "<style scoped>\n",
       "    .dataframe tbody tr th:only-of-type {\n",
       "        vertical-align: middle;\n",
       "    }\n",
       "\n",
       "    .dataframe tbody tr th {\n",
       "        vertical-align: top;\n",
       "    }\n",
       "\n",
       "    .dataframe thead tr th {\n",
       "        text-align: left;\n",
       "    }\n",
       "\n",
       "    .dataframe thead tr:last-of-type th {\n",
       "        text-align: right;\n",
       "    }\n",
       "</style>\n",
       "<table border=\"1\" class=\"dataframe\">\n",
       "  <thead>\n",
       "    <tr>\n",
       "      <th></th>\n",
       "      <th colspan=\"3\" halign=\"left\">calls_sum</th>\n",
       "      <th colspan=\"3\" halign=\"left\">internet</th>\n",
       "      <th>month_revenue</th>\n",
       "      <th colspan=\"3\" halign=\"left\">sms_count</th>\n",
       "    </tr>\n",
       "    <tr>\n",
       "      <th></th>\n",
       "      <th>median</th>\n",
       "      <th>std</th>\n",
       "      <th>var</th>\n",
       "      <th>median</th>\n",
       "      <th>std</th>\n",
       "      <th>var</th>\n",
       "      <th>median</th>\n",
       "      <th>median</th>\n",
       "      <th>std</th>\n",
       "      <th>var</th>\n",
       "    </tr>\n",
       "    <tr>\n",
       "      <th>tariff_name</th>\n",
       "      <th></th>\n",
       "      <th></th>\n",
       "      <th></th>\n",
       "      <th></th>\n",
       "      <th></th>\n",
       "      <th></th>\n",
       "      <th></th>\n",
       "      <th></th>\n",
       "      <th></th>\n",
       "      <th></th>\n",
       "    </tr>\n",
       "  </thead>\n",
       "  <tbody>\n",
       "    <tr>\n",
       "      <td>smart</td>\n",
       "      <td>422.0</td>\n",
       "      <td>190.313730</td>\n",
       "      <td>36219.315784</td>\n",
       "      <td>16531.0</td>\n",
       "      <td>5877.576978</td>\n",
       "      <td>3.454591e+07</td>\n",
       "      <td>959</td>\n",
       "      <td>28.0</td>\n",
       "      <td>28.227876</td>\n",
       "      <td>796.812958</td>\n",
       "    </tr>\n",
       "    <tr>\n",
       "      <td>ultra</td>\n",
       "      <td>518.0</td>\n",
       "      <td>317.606098</td>\n",
       "      <td>100873.633397</td>\n",
       "      <td>19324.0</td>\n",
       "      <td>10096.317202</td>\n",
       "      <td>1.019356e+08</td>\n",
       "      <td>1950</td>\n",
       "      <td>38.0</td>\n",
       "      <td>47.804457</td>\n",
       "      <td>2285.266143</td>\n",
       "    </tr>\n",
       "  </tbody>\n",
       "</table>\n",
       "</div>"
      ],
      "text/plain": [
       "            calls_sum                            internet                \\\n",
       "               median         std            var   median           std   \n",
       "tariff_name                                                               \n",
       "smart           422.0  190.313730   36219.315784  16531.0   5877.576978   \n",
       "ultra           518.0  317.606098  100873.633397  19324.0  10096.317202   \n",
       "\n",
       "                          month_revenue sms_count                          \n",
       "                      var        median    median        std          var  \n",
       "tariff_name                                                                \n",
       "smart        3.454591e+07           959      28.0  28.227876   796.812958  \n",
       "ultra        1.019356e+08          1950      38.0  47.804457  2285.266143  "
      ]
     },
     "execution_count": 75,
     "metadata": {},
     "output_type": "execute_result"
    }
   ],
   "source": [
    "# посмотрим медиану, стандартное отклонение и дисперсию по минутам, смс-сообщениям, интернет-трафику и выручке в месяц\n",
    "\n",
    "df_stat = report.pivot_table(index=['tariff_name'], values=['calls_sum', 'sms_count', 'internet', 'month_revenue'], \n",
    "                    aggfunc={'calls_sum': [np.median, np.var, np.std],\n",
    "                             'sms_count': [np.median, np.var, np.std], \n",
    "                             'internet': [np.median, np.var, np.std],\n",
    "                            'month_revenue': [np.median]})\n",
    "df_stat"
   ]
  },
  {
   "cell_type": "markdown",
   "metadata": {},
   "source": [
    "### Из данной таблицы видно, что по тарифу Ультра среднемесячная медиана, стандартное отклонение и дисперсия по минутам, смс и интернет-трафику значительно превышают такие же показатели тарифа Смарт. Большой разброс этих значений по тарифу Ультра говорит о том, что клиенты тарифа Ультра более свободны в потреблении телекоммуникационных услуг. Использование дорогого тарифа c большим лимитом по услугам дает возможность не думать о том, что в какой-то момент у них отключится интернет или закончится пакет по минутам разговора. Среднемесячная стоимость по медиане для пользователей тарифа Ультра составляет 1950 руб. в месяц, для пользователей по тарифу Смарт 959 руб. в месяц."
   ]
  },
  {
   "cell_type": "code",
   "execution_count": 76,
   "metadata": {},
   "outputs": [
    {
     "data": {
      "text/plain": [
       "Text(0, 0.5, 'кол-во звонков')"
      ]
     },
     "execution_count": 76,
     "metadata": {},
     "output_type": "execute_result"
    },
    {
     "data": {
      "image/png": "[encoded data removed]",
      "text/plain": [
       "<Figure size 432x288 with 1 Axes>"
      ]
     },
     "metadata": {
      "needs_background": "light"
     },
     "output_type": "display_data"
    },
    {
     "data": {
      "image/png": "[encoded data removed]",
      "text/plain": [
       "<Figure size 432x288 with 1 Axes>"
      ]
     },
     "metadata": {
      "needs_background": "light"
     },
     "output_type": "display_data"
    }
   ],
   "source": [
    "calls_smart = smart_df.plot(y = 'calls_sum', kind = 'hist', bins = 50, grid=True, title='Тариф Смарт - длительность звонков, мин.')\n",
    "calls_smart.set_xlabel('минут')\n",
    "calls_smart.set_ylabel('кол-во звонков')\n",
    "calls_ultra = ultra_df.plot(y = 'calls_sum', kind = 'hist', bins = 50, grid=True, title='Тариф Ультра - длительность звонков, мин.')\n",
    "calls_ultra.set_xlabel('минут')\n",
    "calls_ultra.set_ylabel('кол-во звонков')"
   ]
  },
  {
   "cell_type": "markdown",
   "metadata": {},
   "source": [
    "#### По гистограмме длительности звонков по тарифу Смарт видно, что большая часть клиентов разговаривают в месяц в диапазоне от 200 до 600 минут, т.е. стараются уложить в ежемесячный лимит. По тарифу Ультра диапазон от 250 до 800 минут."
   ]
  },
  {
   "cell_type": "code",
   "execution_count": 77,
   "metadata": {},
   "outputs": [
    {
     "data": {
      "text/plain": [
       "<seaborn.axisgrid.FacetGrid at 0x7fefa4dc54d0>"
      ]
     },
     "execution_count": 77,
     "metadata": {},
     "output_type": "execute_result"
    },
    {
     "data": {
      "image/png": "[encoded data removed]",
      "text/plain": [
       "<Figure size 360x360 with 1 Axes>"
      ]
     },
     "metadata": {
      "needs_background": "light"
     },
     "output_type": "display_data"
    }
   ],
   "source": [
    "sns.catplot(x='tariff_name', y='calls_sum', kind='box', data=report, orient='v')"
   ]
  },
  {
   "cell_type": "markdown",
   "metadata": {},
   "source": [
    "#### Из диаграммы размаха по минутам  видим, что медиана по тарифу Смарт составила 422 минуты, по тарифу Ультра 518 минут."
   ]
  },
  {
   "cell_type": "code",
   "execution_count": 78,
   "metadata": {},
   "outputs": [
    {
     "data": {
      "text/plain": [
       "Text(0, 0.5, 'кол-во СМС')"
      ]
     },
     "execution_count": 78,
     "metadata": {},
     "output_type": "execute_result"
    },
    {
     "data": {
      "image/png": "[encoded data removed]",
      "text/plain": [
       "<Figure size 432x288 with 1 Axes>"
      ]
     },
     "metadata": {
      "needs_background": "light"
     },
     "output_type": "display_data"
    },
    {
     "data": {
      "image/png": "[encoded data removed]",
      "text/plain": [
       "<Figure size 432x288 with 1 Axes>"
      ]
     },
     "metadata": {
      "needs_background": "light"
     },
     "output_type": "display_data"
    }
   ],
   "source": [
    "sms_smart = (\n",
    "    smart_df\n",
    "    .plot(y = 'sms_count', kind = 'hist', bins = 100, grid=True, title='Тариф Смарт - количество СМС, шт.')\n",
    ")\n",
    "sms_smart.set_xlabel('штук')\n",
    "sms_smart.set_ylabel('кол-во СМС')\n",
    "sms_ultra = (\n",
    "    ultra_df\n",
    "    .plot(y = 'sms_count', kind = 'hist', bins = 100, grid=True, title='Тариф Ультра - количество СМС, шт.')\n",
    ")\n",
    "sms_ultra.set_xlabel('штук')\n",
    "sms_ultra.set_ylabel('кол-во СМС')"
   ]
  },
  {
   "cell_type": "markdown",
   "metadata": {},
   "source": [
    "#### По гистограмме смс-сообщений видим что по всем тарифам очень большое количество ноль сообщений в месяц. Очень много клиентов вообще не отправляют смс-сообщения. В связи с появлением большого количества мессенджеров через интернет, клиенты все реже используют смс-сообщения. По тарифу Смарт медиана смс-сообщений в месяц составляет 28 смс при лимите 50 смс-сообщений. По тарифу Ультра медиана 38 смс, при лимите 1000 смс в месяц."
   ]
  },
  {
   "cell_type": "code",
   "execution_count": 79,
   "metadata": {},
   "outputs": [
    {
     "data": {
      "text/plain": [
       "Text(0, 0.5, 'кол-во выходов в интернет')"
      ]
     },
     "execution_count": 79,
     "metadata": {},
     "output_type": "execute_result"
    },
    {
     "data": {
      "image/png": "[encoded data removed]",
      "text/plain": [
       "<Figure size 432x288 with 1 Axes>"
      ]
     },
     "metadata": {
      "needs_background": "light"
     },
     "output_type": "display_data"
    },
    {
     "data": {
      "image/png": "[encoded data removed]",
      "text/plain": [
       "<Figure size 432x288 with 1 Axes>"
      ]
     },
     "metadata": {
      "needs_background": "light"
     },
     "output_type": "display_data"
    }
   ],
   "source": [
    "int_smart = smart_df.plot(y = 'internet', kind = 'hist', bins = 50, grid=True, title='Тариф Смарт - интернет трафик, Мб.')\n",
    "int_smart.set_xlabel('Мб.')\n",
    "int_smart.set_ylabel('кол-во выходов в интернет')\n",
    "int_ultra = ultra_df.plot(y = 'internet', kind = 'hist', bins = 50, grid=True, title='Тариф Ультра - интернет трафик, Мб.')\n",
    "int_ultra.set_xlabel('Мб.')\n",
    "int_ultra.set_ylabel('кол-во выходов в интернет')"
   ]
  },
  {
   "cell_type": "markdown",
   "metadata": {},
   "source": [
    "#### Клиенты с тарифом Смарт в среднем в месяц используют от 12 до 22 Гб трафика. Медиана равна 16,5 Гб, что вылезает за пределы, установленные абонентской платой - в 15 Гб. Фактически, клиенты тарифа Смарт регулярно заказывают доп. пакеты с интернетом, когда основной пакет заканчивается. Клиенты с тарифом Ультра используют от 10 до 30 Гб трафика, медиана равна 19 Гб, но учитывая лимит в 30 Гб, у них есть ещё большой запас по количеству оставшегося для использования трафика."
   ]
  },
  {
   "cell_type": "code",
   "execution_count": 80,
   "metadata": {},
   "outputs": [
    {
     "data": {
      "text/plain": [
       "Text(0, 0.5, 'кол-во выручек')"
      ]
     },
     "execution_count": 80,
     "metadata": {},
     "output_type": "execute_result"
    },
    {
     "data": {
      "image/png": "[encoded data removed]",
      "text/plain": [
       "<Figure size 432x288 with 1 Axes>"
      ]
     },
     "metadata": {
      "needs_background": "light"
     },
     "output_type": "display_data"
    },
    {
     "data": {
      "image/png": "[encoded data removed]",
      "text/plain": [
       "<Figure size 432x288 with 1 Axes>"
      ]
     },
     "metadata": {
      "needs_background": "light"
     },
     "output_type": "display_data"
    }
   ],
   "source": [
    "rev_smart = smart_df.plot(y = 'month_revenue', kind = 'hist', bins = 20, grid=True, title='Тариф Смарт - выручка в месяц, руб.')\n",
    "rev_smart.set_xlabel('руб.')\n",
    "rev_smart.set_ylabel('кол-во выручек')\n",
    "rev_ultra = ultra_df.plot(y = 'month_revenue', kind = 'hist', bins = 20, grid=True, title='Тариф Ультра - выручка в месяц, руб.')\n",
    "rev_ultra.set_xlabel('руб.')\n",
    "rev_ultra.set_ylabel('кол-во выручек')"
   ]
  },
  {
   "cell_type": "code",
   "execution_count": 81,
   "metadata": {},
   "outputs": [
    {
     "data": {
      "text/plain": [
       "Text(0.5, 1.0, 'Диаграмма размаха среднемес. выручки по тарифу Смарт на одного клиента, руб.')"
      ]
     },
     "execution_count": 81,
     "metadata": {},
     "output_type": "execute_result"
    },
    {
     "data": {
      "image/png": "[encoded data removed]",
      "text/plain": [
       "<Figure size 432x288 with 1 Axes>"
      ]
     },
     "metadata": {
      "needs_background": "light"
     },
     "output_type": "display_data"
    }
   ],
   "source": [
    "smart_df.boxplot(['month_revenue'])\n",
    "plt.ylim(0, 3800)\n",
    "plt.title('Диаграмма размаха среднемес. выручки по тарифу Смарт на одного клиента, руб.')"
   ]
  },
  {
   "cell_type": "code",
   "execution_count": 82,
   "metadata": {},
   "outputs": [
    {
     "data": {
      "text/plain": [
       "Text(0.5, 1.0, 'Диаграмма размаха среднемес. выручки по тарифу Ультра на одного клиента, руб.')"
      ]
     },
     "execution_count": 82,
     "metadata": {},
     "output_type": "execute_result"
    },
    {
     "data": {
      "image/png": "[encoded data removed]",
      "text/plain": [
       "<Figure size 432x288 with 1 Axes>"
      ]
     },
     "metadata": {
      "needs_background": "light"
     },
     "output_type": "display_data"
    }
   ],
   "source": [
    "ultra_df.boxplot(['month_revenue'])\n",
    "plt.ylim(0, 2500)\n",
    "plt.title('Диаграмма размаха среднемес. выручки по тарифу Ультра на одного клиента, руб.')"
   ]
  },
  {
   "cell_type": "markdown",
   "metadata": {},
   "source": [
    "#### Клиенты с тарифом Смарт в среднем в месяц тратят от 550 до 1500 руб. Медиана равна 959 руб., что превышает абонентскую плату 550 руб. на 409 руб. или на 74,4%. Фактически, клиенты тарифа Смарт регулярно докупают дополнительные пакеты услуг (в основном интернет-трафик), когда основной пакет услуг заканчивается. Клиенты с тарифом Ультра тратят в большинстве ровно 1950 руб. в месяц, так как лимиты по дорогому пакету услуг достаточные."
   ]
  },
  {
   "cell_type": "markdown",
   "metadata": {},
   "source": [
    "<a id=\"step4\"></a>\n",
    "## Шаг 4. Проверка гипотез\n",
    "\n",
    "#### Две гипотезы:\n",
    "\n",
    "#### 1. Средняя выручка пользователей тарифов «Ультра» и «Смарт» различается;\n",
    "\n",
    "#### 2. Средняя выручка пользователей из Москвы отличается от выручки пользователей из других регионов;\n"
   ]
  },
  {
   "cell_type": "markdown",
   "metadata": {},
   "source": [
    "#### 1. Cредняя выручка пользователей тарифов «Ультра» и «Смарт» различается:\n",
    "\n",
    "H0 (нулевая гипотеза) - средняя выручка пользователей тарифа «Ультра» равна средней выручке пользователей тарифа «Смарт».\n",
    "\n",
    "H1 (альтернативная гипотеза) - средняя выручка пользователей тарифов «Ультра» и «Смарт» различается.\n",
    "\n",
    "Уровень критической значимости возьмем общепринятую α = 5%"
   ]
  },
  {
   "cell_type": "code",
   "execution_count": 83,
   "metadata": {},
   "outputs": [],
   "source": [
    "smart_mean = smart_df['month_revenue']"
   ]
  },
  {
   "cell_type": "code",
   "execution_count": 84,
   "metadata": {},
   "outputs": [],
   "source": [
    "ultra_mean = ultra_df['month_revenue']"
   ]
  },
  {
   "cell_type": "code",
   "execution_count": 85,
   "metadata": {},
   "outputs": [
    {
     "name": "stdout",
     "output_type": "stream",
     "text": [
      "p-значение:  8.2203157605818e-191\n",
      "Отвергаем нулевую гипотезу\n"
     ]
    }
   ],
   "source": [
    "from scipy import stats as st\n",
    "\n",
    "alpha = .05\n",
    "\n",
    "# Чтобы проверить гипотезу о равенстве среднего двух генеральных совокупностей\n",
    "# по взятым из них выборкам, применим метод st.ttest_ind:\n",
    "\n",
    "results = st.ttest_ind(smart_mean, ultra_mean)\n",
    "\n",
    "print('p-значение: ', results.pvalue)\n",
    "\n",
    "if (results.pvalue < alpha):\n",
    "    print(\"Отвергаем нулевую гипотезу\")\n",
    "else:\n",
    "    print(\"Не получилось отвергнуть нулевую гипотезу\")"
   ]
  },
  {
   "cell_type": "markdown",
   "metadata": {},
   "source": [
    "#### Отвергаем нулевую гипотезу. Так как средняя выручка пользователей тарифов Смарт и Ультра различаются. Смотрим следующую таблицу по среднемесячной выручке с одного клиента по тарифам:"
   ]
  },
  {
   "cell_type": "code",
   "execution_count": 86,
   "metadata": {},
   "outputs": [
    {
     "data": {
      "text/html": [
       "<div>\n",
       "<style scoped>\n",
       "    .dataframe tbody tr th:only-of-type {\n",
       "        vertical-align: middle;\n",
       "    }\n",
       "\n",
       "    .dataframe tbody tr th {\n",
       "        vertical-align: top;\n",
       "    }\n",
       "\n",
       "    .dataframe thead th {\n",
       "        text-align: right;\n",
       "    }\n",
       "</style>\n",
       "<table border=\"1\" class=\"dataframe\">\n",
       "  <thead>\n",
       "    <tr style=\"text-align: right;\">\n",
       "      <th></th>\n",
       "      <th>month_revenue</th>\n",
       "    </tr>\n",
       "    <tr>\n",
       "      <th>tariff_name</th>\n",
       "      <th></th>\n",
       "    </tr>\n",
       "  </thead>\n",
       "  <tbody>\n",
       "    <tr>\n",
       "      <td>smart</td>\n",
       "      <td>959</td>\n",
       "    </tr>\n",
       "    <tr>\n",
       "      <td>ultra</td>\n",
       "      <td>1950</td>\n",
       "    </tr>\n",
       "  </tbody>\n",
       "</table>\n",
       "</div>"
      ],
      "text/plain": [
       "             month_revenue\n",
       "tariff_name               \n",
       "smart                  959\n",
       "ultra                 1950"
      ]
     },
     "execution_count": 86,
     "metadata": {},
     "output_type": "execute_result"
    }
   ],
   "source": [
    "report.pivot_table(index='tariff_name', values='month_revenue', aggfunc='median')"
   ]
  },
  {
   "cell_type": "code",
   "execution_count": 87,
   "metadata": {},
   "outputs": [
    {
     "data": {
      "text/plain": [
       "<seaborn.axisgrid.FacetGrid at 0x7fefa3efc890>"
      ]
     },
     "execution_count": 87,
     "metadata": {},
     "output_type": "execute_result"
    },
    {
     "data": {
      "image/png": "[encoded data removed]",
      "text/plain": [
       "<Figure size 360x360 with 1 Axes>"
      ]
     },
     "metadata": {
      "needs_background": "light"
     },
     "output_type": "display_data"
    }
   ],
   "source": [
    "sns.catplot(x='tariff_name', y='month_revenue', kind='box', data=report, orient='v')"
   ]
  },
  {
   "cell_type": "markdown",
   "metadata": {},
   "source": [
    "#### Из таблицы и диаграммы размаха видно, что медиана выручки по тарифу Ультра составила 1950 руб., по тарифу Смарт 959 руб., что больше в два с лишним раза на 991 руб."
   ]
  },
  {
   "cell_type": "markdown",
   "metadata": {},
   "source": [
    "#### 2. Cредняя выручка пользователей из Москвы отличается от выручки пользователей из других регионов:\n",
    "\n",
    "\n",
    "H0(нулевая гипотеза)  — средняя выручка пользователей из Москвы равна средней выручке пользователей из других регионов.\n",
    "\n",
    "H1(альтеранативная гипотеза)  — средняя выручка пользователей из Москвы отличается от средней выручке пользователей из других регионов.\n",
    "\n",
    "Уровень критической значимости возьмем общепринятую α = 5%"
   ]
  },
  {
   "cell_type": "code",
   "execution_count": 88,
   "metadata": {},
   "outputs": [],
   "source": [
    "moscow = report.query('city == \"Москва\"')['month_revenue']"
   ]
  },
  {
   "cell_type": "code",
   "execution_count": 89,
   "metadata": {},
   "outputs": [],
   "source": [
    "regions = report.query('city != \"Москва\"')['month_revenue']"
   ]
  },
  {
   "cell_type": "code",
   "execution_count": 90,
   "metadata": {},
   "outputs": [
    {
     "name": "stdout",
     "output_type": "stream",
     "text": [
      "p-значение: 0.4741107329003996\n",
      "Не получилось отвергнуть нулевую гипотезу\n"
     ]
    }
   ],
   "source": [
    "alpha = .05\n",
    "\n",
    "# Чтобы проверить гипотезу о равенстве среднего\n",
    "# двух генеральных совокупностей по взятым из них выборкам, применим метод st.ttest_ind:\n",
    "\n",
    "results = st.ttest_ind(\n",
    "    moscow, \n",
    "    regions)\n",
    "\n",
    "print('p-значение:', results.pvalue)\n",
    "\n",
    "if (results.pvalue < alpha):\n",
    "    print(\"Отвергаем нулевую гипотезу\")\n",
    "else:\n",
    "    print(\"Не получилось отвергнуть нулевую гипотезу\")"
   ]
  },
  {
   "cell_type": "markdown",
   "metadata": {},
   "source": [
    "#### Не получилость отвергнуть нулевую гипотезу. Т.е. значит cреднемесячная выручка пользователей из Москвы не отличается от выручки пользователей из других регионов. Если бы отклонили нулевую гипотезу и утверждали бы, что доходы \"Мегалайна\" в Москве значительно отличаются от доходов в других регионах, то с вероятностью 47,4% ошиблись. Посмотрим среднемесячную выручку с одного клиента по Москве и по регионам:"
   ]
  },
  {
   "cell_type": "code",
   "execution_count": 91,
   "metadata": {},
   "outputs": [
    {
     "data": {
      "text/html": [
       "<div>\n",
       "<style scoped>\n",
       "    .dataframe tbody tr th:only-of-type {\n",
       "        vertical-align: middle;\n",
       "    }\n",
       "\n",
       "    .dataframe tbody tr th {\n",
       "        vertical-align: top;\n",
       "    }\n",
       "\n",
       "    .dataframe thead th {\n",
       "        text-align: right;\n",
       "    }\n",
       "</style>\n",
       "<table border=\"1\" class=\"dataframe\">\n",
       "  <thead>\n",
       "    <tr style=\"text-align: right;\">\n",
       "      <th></th>\n",
       "      <th>median_revenue</th>\n",
       "    </tr>\n",
       "    <tr>\n",
       "      <th>region</th>\n",
       "      <th></th>\n",
       "    </tr>\n",
       "  </thead>\n",
       "  <tbody>\n",
       "    <tr>\n",
       "      <td>Другой регион</td>\n",
       "      <td>1518</td>\n",
       "    </tr>\n",
       "    <tr>\n",
       "      <td>Москва</td>\n",
       "      <td>1704</td>\n",
       "    </tr>\n",
       "  </tbody>\n",
       "</table>\n",
       "</div>"
      ],
      "text/plain": [
       "               median_revenue\n",
       "region                       \n",
       "Другой регион            1518\n",
       "Москва                   1704"
      ]
     },
     "execution_count": 91,
     "metadata": {},
     "output_type": "execute_result"
    }
   ],
   "source": [
    "def rep_region(city):\n",
    "    if city == 'Москва':\n",
    "        return 'Москва'\n",
    "    else:\n",
    "        return 'Другой регион'\n",
    "    \n",
    "report['region'] = report['city'].apply(rep_region)\n",
    "\n",
    "region_revenue = report.pivot_table(index='region', values='month_revenue', aggfunc=['median'])\n",
    "region_revenue.columns = ['median_revenue']\n",
    "region_revenue"
   ]
  },
  {
   "cell_type": "code",
   "execution_count": 92,
   "metadata": {},
   "outputs": [
    {
     "data": {
      "text/plain": [
       "<matplotlib.axes._subplots.AxesSubplot at 0x7fefa3e78bd0>"
      ]
     },
     "execution_count": 92,
     "metadata": {},
     "output_type": "execute_result"
    },
    {
     "data": {
      "image/png": "[encoded data removed]",
      "text/plain": [
       "<Figure size 432x288 with 1 Axes>"
      ]
     },
     "metadata": {
      "needs_background": "light"
     },
     "output_type": "display_data"
    }
   ],
   "source": [
    "region_revenue.plot(y = 'median_revenue', kind = 'bar',\n",
    "                    grid=True, title='Среднемeсячная выручка с одного пользователя по регионам, руб.')"
   ]
  },
  {
   "cell_type": "markdown",
   "metadata": {},
   "source": [
    "#### Из таблицы и графика видно, что медиана среднемесячной выручки в Москве составила 1704 руб., во всех других регионах страны 1518 руб. Слишком большой разницы не имеется."
   ]
  },
  {
   "cell_type": "markdown",
   "metadata": {},
   "source": [
    "<a id=\"step5\"></a>\n",
    "## Шаг 5. Общий вывод"
   ]
  },
  {
   "cell_type": "markdown",
   "metadata": {},
   "source": [
    "В компании «Мегалайн» - федеральный оператор сотовой связи проведено исследование двух тарифных планов: «Смарт» и «Ультра». Для Коммерческого департамента компании, чтобы скорректировать рекламный бюджет, определяли какой тариф приносит больше денег.\n",
    "\n",
    "Сделан предварительный анализ тарифов на небольшой выборке клиентов. В распоряжении были данные 500 пользователей «Мегалайна» с информацией: кто они, откуда, каким тарифом пользуются, сколько звонков и сообщений каждый отправил за 2018 год. Проанализировали поведение клиентов, чтобы сделать вывод — какой тариф лучше.\n",
    "\n",
    "Сперва открыли файлы с данными и изучили общую информацию. Получили 5 разных таблиц со следующей информацией:\n",
    "- 1. Таблица users (информация о пользователях)\n",
    "- 2. Таблица calls (информация о звонках)\n",
    "- 3. Таблица messages (информация о сообщениях)\n",
    "- 4. Таблица internet (информация об интернет-сессиях)\n",
    "- 5. Таблица tariffs (информация о тарифах)\n",
    "\n",
    "Затем привели данные к нужным типам, нашли и исправли ошибки в данных. В информации о звонках и информации об интернет-сессиях округлили вверх значени, и удалили большое количество значений с нулевыми данными, так как их отсутствие не повлияет на результаты анализа.\n",
    "\n",
    "Посчитали для каждого пользователя:\n",
    "- количество сделанных звонков и израсходованных минут разговора по месяцам;\n",
    "- количество отправленных сообщений по месяцам;\n",
    "- объем израсходованного интернет-трафика по месяцам;\n",
    "- помесячную выручку с каждого пользователя (вычли бесплатный лимит из суммарного количества звонков, сообщений и интернет-трафика; остаток умножили на значение из тарифного плана; прибавили абонентскую плату, соответствующую тарифному плану).\n",
    "\n",
    "Проанализировали данные, описали поведение клиентов оператора, исходя из выборки. Сколько минут разговора, сколько сообщений и какой объём интернет-трафика требуется пользователям каждого тарифа в месяц. Посчитали среднее количество, дисперсию и стандартное отклонение. Построили гистограмму с описанием распределения.\n",
    "\n",
    "Также проверили гипотезы:\n",
    "- средняя выручка пользователей тарифов «Ультра» и «Смарт» различается;\n",
    "- средняя выручка пользователей из Москвы отличается от выручки пользователей из других регионов.\n",
    "\n",
    "#### Главные выводы - какой тариф приносит больше денег:\n",
    "- За 2018 г. больше всего выручки принес тариф Смарт 2748486 рублей или 58% от общей выручки, выручка по тарифу Ультра составила 2029556 рублей или 42% от общей выручки. Несмотря на то, что абонентская плата по тарифу Ультра 1950 руб. в месяц в три с половиной раза выше, чем абонентская плата по тарифу Смарт 550 руб. в месяц.\n",
    "- Из данной выборки 500 человек большинство пользуются тарифом Смарт, это 351 человек или 70% от всего количества. Тариф Ультра используют 149 человек или 30%.\n",
    "- В 2018 г. по данной выборке через тариф Смарт больше всего совершено звонков, отправлено смс и использовано интернет-трафика, и, как следствие, большую часть выручки принес тариф Смарт.\n",
    "- Пользователям тарифа «Смарт» не хватает услуг в рамках тарифного пакета (в основном интернет): кроме абонентской платы пользователи в среднем доплачивают еще 409 рублей ежемесячно (+74,4%).\n",
    "- Большинство пользователей тарифа «Ультра», не используют тарифный пакет в полном объеме.\n",
    "\n",
    "Дополнительно выяснили:\n",
    "- Средняя выручка пользователей тарифов Смарт и Ультра значительно различаются. Среднемесячная выручка с одного клиента по медиане по тарифу Смарт составила 959 рублей, по тарифу Ультра 1950 рублей;\n",
    "- Cреднемесячная выручка пользователей из Москвы не отличается от выручки пользователей из других регионов. При утверждении, что доходы \"Мегалайна\" в Москве с одного клиента значительно отличаются от доходов в других регионах, то с вероятностью 47,4% произойдет ошибка. Средняя выручка в месяц с одного клиента в Москве в 2018 г. составила 1704 руб., по остальным регионам страны 1518 руб. Разница не значительная.\n",
    "\n",
    "Рекомендации:\n",
    "- Среднемесячная выручка с одного клиента по медиане по тарифу Смарт составила 959 рублей, это значит, что эти деньги клиент готов тратить в месяц в качестве абонентской платы. Поэтому можно рассмотреть вариант повышения абонентской платы по тарифу Смарт или вариант создания нового промежуточного тарифа между Смарт и Ультра, на базе тарифа Смарт под условным названием \"Смарт+\", где будет больший пакет интернет-трафика примерно до 18 Гб (меньше медианы интернет-трафика 19 Гб по тарифу Ультра, чтобы не было оттока) с абонентской платой 950 рублей."
   ]
  }
 ],
 "metadata": {
  "kernelspec": {
   "display_name": "Python 3",
   "language": "python",
   "name": "python3"
  },
  "language_info": {
   "codemirror_mode": {
    "name": "ipython",
    "version": 3
   },
   "file_extension": ".py",
   "mimetype": "text/x-python",
   "name": "python",
   "nbconvert_exporter": "python",
   "pygments_lexer": "ipython3",
   "version": "3.7.8"
  }
 },
 "nbformat": 4,
 "nbformat_minor": 2
}
